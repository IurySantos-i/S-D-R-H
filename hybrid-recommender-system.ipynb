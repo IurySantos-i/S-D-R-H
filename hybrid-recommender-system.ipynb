{
 "cells": [
  {
   "cell_type": "markdown",
   "id": "ecfcd336",
   "metadata": {
    "papermill": {
     "duration": 0.013144,
     "end_time": "2023-07-25T15:56:21.694683",
     "exception": false,
     "start_time": "2023-07-25T15:56:21.681539",
     "status": "completed"
    },
    "tags": []
   },
   "source": [
    "<h1 style=\" color:White;font-size:280%\"> <center> <b> Sistema de recomendação híbrido </b> </center> </h1>"
   ]
  },
  {
   "cell_type": "markdown",
   "id": "2bf20b03",
   "metadata": {
    "papermill": {
     "duration": 0.011934,
     "end_time": "2023-07-25T15:56:21.719286",
     "exception": false,
     "start_time": "2023-07-25T15:56:21.707352",
     "status": "completed"
    },
    "tags": []
   },
   "source": [
    "<h1> <div style=\"text-align:center\">\n",
    "    <code style=\"background:gainsboro;color:black;font-size:130%\"> Problema\n",
    "  </code> </div> </h1>"
   ]
  },
  {
   "cell_type": "markdown",
   "id": "a6dbd2ef",
   "metadata": {
    "papermill": {
     "duration": 0.011833,
     "end_time": "2023-07-25T15:56:21.746059",
     "exception": false,
     "start_time": "2023-07-25T15:56:21.734226",
     "status": "completed"
    },
    "tags": []
   },
   "source": [
    "<p style=\"text-align:center; font-size: 120%\"><i>Faça 30 recomendações de filme para o usuário cujo id é dado, usando os métodos de recomendação baseada em usuários e baseada em items</i></p>\n"
   ]
  },
  {
   "cell_type": "markdown",
   "id": "b1c7dae4",
   "metadata": {
    "papermill": {
     "duration": 0.012515,
     "end_time": "2023-07-25T15:56:21.770748",
     "exception": false,
     "start_time": "2023-07-25T15:56:21.758233",
     "status": "completed"
    },
    "tags": []
   },
   "source": [
    "<h1> <div style=\"text-align:center\">\n",
    "    <code style=\"background:gainsboro;color:black;font-size:130%\"> Dataset </code> </div> </h1>\n",
    "                "
   ]
  },
  {
   "cell_type": "markdown",
   "id": "8e66f2fa",
   "metadata": {
    "papermill": {
     "duration": 0.011922,
     "end_time": "2023-07-25T15:56:21.795149",
     "exception": false,
     "start_time": "2023-07-25T15:56:21.783227",
     "status": "completed"
    },
    "tags": []
   },
   "source": [
    "<p style=\"text-align:center; font-size: 120%\"><i> O dataset foi fornecido pelo MovieLens, um serviço de recomendação de filmes. Ele contém as pontuações de classificação para esses filmes, juntamente com os filmes. Ele contém 2.000.0263 classificações em 27.278 filmes. Esse dataset foi criado em 17 de outubro de 2016. Inclui 138.493 usuários e dados de 09 de janeiro de 1995 a 31 de março de 2015. Os usuários são selecionados aleatoriamente. Sabe-se que todos os usuários selecionados votaram em pelo menos 20 filmes.</i></p>"
   ]
  },
  {
   "cell_type": "markdown",
   "id": "990aeb55",
   "metadata": {
    "papermill": {
     "duration": 0.011853,
     "end_time": "2023-07-25T15:56:21.819351",
     "exception": false,
     "start_time": "2023-07-25T15:56:21.807498",
     "status": "completed"
    },
    "tags": []
   },
   "source": [
    "<p style=\"font-size: 120%\"><i><b>movie.csv</b></i></p>\n",
    "\n",
    "* <p style=\"font-size: 110%\"><i> <b>movieId:<b> </i> <i> identificador único do filme.</i></p>\n",
    "* <p style=\"font-size: 110%\"><i> <b>title:<b> </i> <i>nome do filme</i></p>\n",
    "* <p style=\"font-size: 110%\"><i> <b>genres:<b> </i> <i>gênero do filme</i></p>"
   ]
  },
  {
   "cell_type": "markdown",
   "id": "8520913b",
   "metadata": {
    "papermill": {
     "duration": 0.011734,
     "end_time": "2023-07-25T15:56:21.843543",
     "exception": false,
     "start_time": "2023-07-25T15:56:21.831809",
     "status": "completed"
    },
    "tags": []
   },
   "source": [
    "<p style=\"font-size: 120%\"><i><b>rating.csv</b></i></p>\n",
    "\n",
    "* <p style=\"font-size: 110%\"><i> <b>userid:<b> </i> <i> identificador único do usuário.</i></p>\n",
    "* <p style=\"font-size: 110%\"><i> <b>movieId:<b> </i> <i> identificador único do filme.</i></p>\n",
    "* <p style=\"font-size: 110%\"><i> <b>rating:<b> </i> <i> avaliação dada ao filme pelo usuário </i></p>\n",
    "* <p style=\"font-size: 110%\"><i> <b>timestamp:<b> </i> <i>data da avaliação</i></p>"
   ]
  },
  {
   "cell_type": "markdown",
   "id": "3aec90c4",
   "metadata": {
    "papermill": {
     "duration": 0.011789,
     "end_time": "2023-07-25T15:56:21.867533",
     "exception": false,
     "start_time": "2023-07-25T15:56:21.855744",
     "status": "completed"
    },
    "tags": []
   },
   "source": [
    "<h1> <div style=\"text-align:center\">\n",
    "    <code style=\"background:gainsboro;color:black;font-size:130%\"> Tarefas do projeto </code> </div> </h1>"
   ]
  },
  {
   "cell_type": "code",
   "execution_count": 27,
   "id": "1c06740a",
   "metadata": {
    "execution": {
     "iopub.execute_input": "2023-07-25T15:56:21.893855Z",
     "iopub.status.busy": "2023-07-25T15:56:21.893387Z",
     "iopub.status.idle": "2023-07-25T15:56:21.905618Z",
     "shell.execute_reply": "2023-07-25T15:56:21.904322Z"
    },
    "papermill": {
     "duration": 0.028643,
     "end_time": "2023-07-25T15:56:21.908287",
     "exception": false,
     "start_time": "2023-07-25T15:56:21.879644",
     "status": "completed"
    },
    "tags": []
   },
   "outputs": [],
   "source": [
    "\n",
    "import pandas as pd\n",
    "import numpy as np\n",
    "pd.set_option('display.max_columns', 100)\n",
    "pd.set_option('display.width', 500)"
   ]
  },
  {
   "cell_type": "markdown",
   "id": "f023bf45",
   "metadata": {
    "papermill": {
     "duration": 0.011861,
     "end_time": "2023-07-25T15:56:21.932426",
     "exception": false,
     "start_time": "2023-07-25T15:56:21.920565",
     "status": "completed"
    },
    "tags": []
   },
   "source": [
    "<h2> <code style=\"background:gainsboro;color:black;font-size:130%\"> Recomendação baseada em usuários</code> </h2>\n"
   ]
  },
  {
   "cell_type": "markdown",
   "id": "74f45c6b",
   "metadata": {
    "papermill": {
     "duration": 0.011713,
     "end_time": "2023-07-25T15:56:21.956063",
     "exception": false,
     "start_time": "2023-07-25T15:56:21.944350",
     "status": "completed"
    },
    "tags": []
   },
   "source": [
    "<code style=\"background:gainsboro;color:black;font-size:190%\"> Tarefa 1: Preparando os dados </code>"
   ]
  },
  {
   "cell_type": "markdown",
   "id": "d6306562",
   "metadata": {
    "papermill": {
     "duration": 0.01185,
     "end_time": "2023-07-25T15:56:21.980048",
     "exception": false,
     "start_time": "2023-07-25T15:56:21.968198",
     "status": "completed"
    },
    "tags": []
   },
   "source": [
    "<code style=\"background:gainsboro;color:black;font-size:140%\"> Passo 1: </code> \n",
    "<p style=\"font-size: 100%\"><i><b>Ler os datasets \"movie\" e \"rating\"<b></i></p>"
   ]
  },
  {
   "cell_type": "code",
   "execution_count": 28,
   "id": "90027fab",
   "metadata": {
    "execution": {
     "iopub.execute_input": "2023-07-25T15:56:22.007791Z",
     "iopub.status.busy": "2023-07-25T15:56:22.007377Z",
     "iopub.status.idle": "2023-07-25T15:56:22.101873Z",
     "shell.execute_reply": "2023-07-25T15:56:22.100740Z"
    },
    "papermill": {
     "duration": 0.112096,
     "end_time": "2023-07-25T15:56:22.104132",
     "exception": false,
     "start_time": "2023-07-25T15:56:21.992036",
     "status": "completed"
    },
    "tags": []
   },
   "outputs": [
    {
     "data": {
      "text/html": [
       "<div>\n",
       "<style scoped>\n",
       "    .dataframe tbody tr th:only-of-type {\n",
       "        vertical-align: middle;\n",
       "    }\n",
       "\n",
       "    .dataframe tbody tr th {\n",
       "        vertical-align: top;\n",
       "    }\n",
       "\n",
       "    .dataframe thead th {\n",
       "        text-align: right;\n",
       "    }\n",
       "</style>\n",
       "<table border=\"1\" class=\"dataframe\">\n",
       "  <thead>\n",
       "    <tr style=\"text-align: right;\">\n",
       "      <th></th>\n",
       "      <th>movieId</th>\n",
       "      <th>title</th>\n",
       "      <th>genres</th>\n",
       "    </tr>\n",
       "  </thead>\n",
       "  <tbody>\n",
       "    <tr>\n",
       "      <th>0</th>\n",
       "      <td>1</td>\n",
       "      <td>Toy Story (1995)</td>\n",
       "      <td>Adventure|Animation|Children|Comedy|Fantasy</td>\n",
       "    </tr>\n",
       "    <tr>\n",
       "      <th>1</th>\n",
       "      <td>2</td>\n",
       "      <td>Jumanji (1995)</td>\n",
       "      <td>Adventure|Children|Fantasy</td>\n",
       "    </tr>\n",
       "    <tr>\n",
       "      <th>2</th>\n",
       "      <td>3</td>\n",
       "      <td>Grumpier Old Men (1995)</td>\n",
       "      <td>Comedy|Romance</td>\n",
       "    </tr>\n",
       "    <tr>\n",
       "      <th>3</th>\n",
       "      <td>4</td>\n",
       "      <td>Waiting to Exhale (1995)</td>\n",
       "      <td>Comedy|Drama|Romance</td>\n",
       "    </tr>\n",
       "    <tr>\n",
       "      <th>4</th>\n",
       "      <td>5</td>\n",
       "      <td>Father of the Bride Part II (1995)</td>\n",
       "      <td>Comedy</td>\n",
       "    </tr>\n",
       "  </tbody>\n",
       "</table>\n",
       "</div>"
      ],
      "text/plain": [
       "   movieId                               title                                       genres\n",
       "0        1                    Toy Story (1995)  Adventure|Animation|Children|Comedy|Fantasy\n",
       "1        2                      Jumanji (1995)                   Adventure|Children|Fantasy\n",
       "2        3             Grumpier Old Men (1995)                               Comedy|Romance\n",
       "3        4            Waiting to Exhale (1995)                         Comedy|Drama|Romance\n",
       "4        5  Father of the Bride Part II (1995)                                       Comedy"
      ]
     },
     "execution_count": 28,
     "metadata": {},
     "output_type": "execute_result"
    }
   ],
   "source": [
    "movie = pd.read_csv(\"movie.csv\")\n",
    "movie.head()"
   ]
  },
  {
   "cell_type": "code",
   "execution_count": 29,
   "id": "d8be9ee5",
   "metadata": {
    "execution": {
     "iopub.execute_input": "2023-07-25T15:56:22.131301Z",
     "iopub.status.busy": "2023-07-25T15:56:22.130464Z",
     "iopub.status.idle": "2023-07-25T15:56:46.829906Z",
     "shell.execute_reply": "2023-07-25T15:56:46.828767Z"
    },
    "papermill": {
     "duration": 24.715784,
     "end_time": "2023-07-25T15:56:46.832406",
     "exception": false,
     "start_time": "2023-07-25T15:56:22.116622",
     "status": "completed"
    },
    "tags": []
   },
   "outputs": [
    {
     "data": {
      "text/html": [
       "<div>\n",
       "<style scoped>\n",
       "    .dataframe tbody tr th:only-of-type {\n",
       "        vertical-align: middle;\n",
       "    }\n",
       "\n",
       "    .dataframe tbody tr th {\n",
       "        vertical-align: top;\n",
       "    }\n",
       "\n",
       "    .dataframe thead th {\n",
       "        text-align: right;\n",
       "    }\n",
       "</style>\n",
       "<table border=\"1\" class=\"dataframe\">\n",
       "  <thead>\n",
       "    <tr style=\"text-align: right;\">\n",
       "      <th></th>\n",
       "      <th>userId</th>\n",
       "      <th>movieId</th>\n",
       "      <th>rating</th>\n",
       "      <th>timestamp</th>\n",
       "    </tr>\n",
       "  </thead>\n",
       "  <tbody>\n",
       "    <tr>\n",
       "      <th>0</th>\n",
       "      <td>1</td>\n",
       "      <td>50</td>\n",
       "      <td>3.5</td>\n",
       "      <td>2005-04-02 23:29:40</td>\n",
       "    </tr>\n",
       "    <tr>\n",
       "      <th>1</th>\n",
       "      <td>1</td>\n",
       "      <td>112</td>\n",
       "      <td>3.5</td>\n",
       "      <td>2004-09-10 03:09:00</td>\n",
       "    </tr>\n",
       "    <tr>\n",
       "      <th>2</th>\n",
       "      <td>1</td>\n",
       "      <td>151</td>\n",
       "      <td>4.0</td>\n",
       "      <td>2004-09-10 03:08:54</td>\n",
       "    </tr>\n",
       "    <tr>\n",
       "      <th>3</th>\n",
       "      <td>1</td>\n",
       "      <td>293</td>\n",
       "      <td>4.0</td>\n",
       "      <td>2005-04-02 23:31:43</td>\n",
       "    </tr>\n",
       "    <tr>\n",
       "      <th>4</th>\n",
       "      <td>1</td>\n",
       "      <td>296</td>\n",
       "      <td>4.0</td>\n",
       "      <td>2005-04-02 23:32:47</td>\n",
       "    </tr>\n",
       "  </tbody>\n",
       "</table>\n",
       "</div>"
      ],
      "text/plain": [
       "   userId  movieId  rating            timestamp\n",
       "0       1       50     3.5  2005-04-02 23:29:40\n",
       "1       1      112     3.5  2004-09-10 03:09:00\n",
       "2       1      151     4.0  2004-09-10 03:08:54\n",
       "3       1      293     4.0  2005-04-02 23:31:43\n",
       "4       1      296     4.0  2005-04-02 23:32:47"
      ]
     },
     "execution_count": 29,
     "metadata": {},
     "output_type": "execute_result"
    }
   ],
   "source": [
    "rating = pd.read_csv(\"ratingm.csv\")\n",
    "rating.head()"
   ]
  },
  {
   "cell_type": "markdown",
   "id": "3d68c5e7",
   "metadata": {
    "papermill": {
     "duration": 0.012178,
     "end_time": "2023-07-25T15:56:46.857462",
     "exception": false,
     "start_time": "2023-07-25T15:56:46.845284",
     "status": "completed"
    },
    "tags": []
   },
   "source": [
    "<code style=\"background:gainsboro;color:black;font-size:140%\"> Passo 2: </code> \n",
    "<p style=\"font-size: 100%\"><i><b>Adicione os nomes dos filmes e os gêneros dos Ids provenientes do dataset \"movies\" ao dataset \"rating\" <b></i></p>\n"
   ]
  },
  {
   "cell_type": "code",
   "execution_count": 30,
   "id": "641e3527",
   "metadata": {
    "execution": {
     "iopub.execute_input": "2023-07-25T15:56:46.885503Z",
     "iopub.status.busy": "2023-07-25T15:56:46.885063Z",
     "iopub.status.idle": "2023-07-25T15:56:53.881928Z",
     "shell.execute_reply": "2023-07-25T15:56:53.880184Z"
    },
    "papermill": {
     "duration": 7.014655,
     "end_time": "2023-07-25T15:56:53.884856",
     "exception": false,
     "start_time": "2023-07-25T15:56:46.870201",
     "status": "completed"
    },
    "tags": []
   },
   "outputs": [
    {
     "data": {
      "text/html": [
       "<div>\n",
       "<style scoped>\n",
       "    .dataframe tbody tr th:only-of-type {\n",
       "        vertical-align: middle;\n",
       "    }\n",
       "\n",
       "    .dataframe tbody tr th {\n",
       "        vertical-align: top;\n",
       "    }\n",
       "\n",
       "    .dataframe thead th {\n",
       "        text-align: right;\n",
       "    }\n",
       "</style>\n",
       "<table border=\"1\" class=\"dataframe\">\n",
       "  <thead>\n",
       "    <tr style=\"text-align: right;\">\n",
       "      <th></th>\n",
       "      <th>userId</th>\n",
       "      <th>movieId</th>\n",
       "      <th>rating</th>\n",
       "      <th>timestamp</th>\n",
       "      <th>title</th>\n",
       "      <th>genres</th>\n",
       "    </tr>\n",
       "  </thead>\n",
       "  <tbody>\n",
       "    <tr>\n",
       "      <th>0</th>\n",
       "      <td>1</td>\n",
       "      <td>50</td>\n",
       "      <td>3.5</td>\n",
       "      <td>2005-04-02 23:29:40</td>\n",
       "      <td>Usual Suspects, The (1995)</td>\n",
       "      <td>Crime|Mystery|Thriller</td>\n",
       "    </tr>\n",
       "    <tr>\n",
       "      <th>1</th>\n",
       "      <td>1</td>\n",
       "      <td>112</td>\n",
       "      <td>3.5</td>\n",
       "      <td>2004-09-10 03:09:00</td>\n",
       "      <td>Rumble in the Bronx (Hont faan kui) (1995)</td>\n",
       "      <td>Action|Adventure|Comedy|Crime</td>\n",
       "    </tr>\n",
       "    <tr>\n",
       "      <th>2</th>\n",
       "      <td>1</td>\n",
       "      <td>151</td>\n",
       "      <td>4.0</td>\n",
       "      <td>2004-09-10 03:08:54</td>\n",
       "      <td>Rob Roy (1995)</td>\n",
       "      <td>Action|Drama|Romance|War</td>\n",
       "    </tr>\n",
       "    <tr>\n",
       "      <th>3</th>\n",
       "      <td>1</td>\n",
       "      <td>293</td>\n",
       "      <td>4.0</td>\n",
       "      <td>2005-04-02 23:31:43</td>\n",
       "      <td>Léon: The Professional (a.k.a. The Professiona...</td>\n",
       "      <td>Action|Crime|Drama|Thriller</td>\n",
       "    </tr>\n",
       "    <tr>\n",
       "      <th>4</th>\n",
       "      <td>1</td>\n",
       "      <td>296</td>\n",
       "      <td>4.0</td>\n",
       "      <td>2005-04-02 23:32:47</td>\n",
       "      <td>Pulp Fiction (1994)</td>\n",
       "      <td>Comedy|Crime|Drama|Thriller</td>\n",
       "    </tr>\n",
       "  </tbody>\n",
       "</table>\n",
       "</div>"
      ],
      "text/plain": [
       "   userId  movieId  rating            timestamp                                              title                         genres\n",
       "0       1       50     3.5  2005-04-02 23:29:40                         Usual Suspects, The (1995)         Crime|Mystery|Thriller\n",
       "1       1      112     3.5  2004-09-10 03:09:00         Rumble in the Bronx (Hont faan kui) (1995)  Action|Adventure|Comedy|Crime\n",
       "2       1      151     4.0  2004-09-10 03:08:54                                     Rob Roy (1995)       Action|Drama|Romance|War\n",
       "3       1      293     4.0  2005-04-02 23:31:43  Léon: The Professional (a.k.a. The Professiona...    Action|Crime|Drama|Thriller\n",
       "4       1      296     4.0  2005-04-02 23:32:47                                Pulp Fiction (1994)    Comedy|Crime|Drama|Thriller"
      ]
     },
     "execution_count": 30,
     "metadata": {},
     "output_type": "execute_result"
    }
   ],
   "source": [
    "df = rating.merge(movie, how=\"left\", on=\"movieId\")\n",
    "df.head()"
   ]
  },
  {
   "cell_type": "markdown",
   "id": "b2db879c",
   "metadata": {
    "papermill": {
     "duration": 0.012701,
     "end_time": "2023-07-25T15:56:53.910866",
     "exception": false,
     "start_time": "2023-07-25T15:56:53.898165",
     "status": "completed"
    },
    "tags": []
   },
   "source": [
    "<code style=\"background:gainsboro;color:black;font-size:140%\"> Passo 3: </code> \n",
    "<p style=\"font-size: 100%\"><i><b>Mantenha os nomes dos filmes com menos de 1000 votos na lista e os remova do dataset<b></i></p>"
   ]
  },
  {
   "cell_type": "code",
   "execution_count": 31,
   "id": "c4230eb4",
   "metadata": {
    "execution": {
     "iopub.execute_input": "2023-07-25T15:56:53.938679Z",
     "iopub.status.busy": "2023-07-25T15:56:53.938255Z",
     "iopub.status.idle": "2023-07-25T15:57:01.362726Z",
     "shell.execute_reply": "2023-07-25T15:57:01.361566Z"
    },
    "papermill": {
     "duration": 7.442209,
     "end_time": "2023-07-25T15:57:01.365910",
     "exception": false,
     "start_time": "2023-07-25T15:56:53.923701",
     "status": "completed"
    },
    "tags": []
   },
   "outputs": [
    {
     "data": {
      "text/html": [
       "<div>\n",
       "<style scoped>\n",
       "    .dataframe tbody tr th:only-of-type {\n",
       "        vertical-align: middle;\n",
       "    }\n",
       "\n",
       "    .dataframe tbody tr th {\n",
       "        vertical-align: top;\n",
       "    }\n",
       "\n",
       "    .dataframe thead th {\n",
       "        text-align: right;\n",
       "    }\n",
       "</style>\n",
       "<table border=\"1\" class=\"dataframe\">\n",
       "  <thead>\n",
       "    <tr style=\"text-align: right;\">\n",
       "      <th></th>\n",
       "      <th>userId</th>\n",
       "      <th>movieId</th>\n",
       "      <th>rating</th>\n",
       "      <th>timestamp</th>\n",
       "      <th>title</th>\n",
       "      <th>genres</th>\n",
       "    </tr>\n",
       "  </thead>\n",
       "  <tbody>\n",
       "    <tr>\n",
       "      <th>0</th>\n",
       "      <td>1</td>\n",
       "      <td>50</td>\n",
       "      <td>3.5</td>\n",
       "      <td>2005-04-02 23:29:40</td>\n",
       "      <td>Usual Suspects, The (1995)</td>\n",
       "      <td>Crime|Mystery|Thriller</td>\n",
       "    </tr>\n",
       "    <tr>\n",
       "      <th>1</th>\n",
       "      <td>1</td>\n",
       "      <td>112</td>\n",
       "      <td>3.5</td>\n",
       "      <td>2004-09-10 03:09:00</td>\n",
       "      <td>Rumble in the Bronx (Hont faan kui) (1995)</td>\n",
       "      <td>Action|Adventure|Comedy|Crime</td>\n",
       "    </tr>\n",
       "    <tr>\n",
       "      <th>2</th>\n",
       "      <td>1</td>\n",
       "      <td>151</td>\n",
       "      <td>4.0</td>\n",
       "      <td>2004-09-10 03:08:54</td>\n",
       "      <td>Rob Roy (1995)</td>\n",
       "      <td>Action|Drama|Romance|War</td>\n",
       "    </tr>\n",
       "    <tr>\n",
       "      <th>3</th>\n",
       "      <td>1</td>\n",
       "      <td>293</td>\n",
       "      <td>4.0</td>\n",
       "      <td>2005-04-02 23:31:43</td>\n",
       "      <td>Léon: The Professional (a.k.a. The Professiona...</td>\n",
       "      <td>Action|Crime|Drama|Thriller</td>\n",
       "    </tr>\n",
       "    <tr>\n",
       "      <th>4</th>\n",
       "      <td>1</td>\n",
       "      <td>296</td>\n",
       "      <td>4.0</td>\n",
       "      <td>2005-04-02 23:32:47</td>\n",
       "      <td>Pulp Fiction (1994)</td>\n",
       "      <td>Comedy|Crime|Drama|Thriller</td>\n",
       "    </tr>\n",
       "  </tbody>\n",
       "</table>\n",
       "</div>"
      ],
      "text/plain": [
       "   userId  movieId  rating            timestamp                                              title                         genres\n",
       "0       1       50     3.5  2005-04-02 23:29:40                         Usual Suspects, The (1995)         Crime|Mystery|Thriller\n",
       "1       1      112     3.5  2004-09-10 03:09:00         Rumble in the Bronx (Hont faan kui) (1995)  Action|Adventure|Comedy|Crime\n",
       "2       1      151     4.0  2004-09-10 03:08:54                                     Rob Roy (1995)       Action|Drama|Romance|War\n",
       "3       1      293     4.0  2005-04-02 23:31:43  Léon: The Professional (a.k.a. The Professiona...    Action|Crime|Drama|Thriller\n",
       "4       1      296     4.0  2005-04-02 23:32:47                                Pulp Fiction (1994)    Comedy|Crime|Drama|Thriller"
      ]
     },
     "execution_count": 31,
     "metadata": {},
     "output_type": "execute_result"
    }
   ],
   "source": [
    "rating_numbers = pd.DataFrame(df[\"title\"].value_counts())\n",
    "# Filmes com menos de 1000 votos\n",
    "not_popular_movies = rating_numbers[rating_numbers[\"title\"] <= 1000].index\n",
    "# Escolhendo os filmes do dataframe \"df\" que não estão no dataframe \"not_popular_movies\" \n",
    "popular_movies = df[~df[\"title\"].isin(not_popular_movies)]\n",
    "\n",
    "popular_movies.head()\n"
   ]
  },
  {
   "cell_type": "markdown",
   "id": "2eed00e3",
   "metadata": {
    "papermill": {
     "duration": 0.013105,
     "end_time": "2023-07-25T15:57:01.392458",
     "exception": false,
     "start_time": "2023-07-25T15:57:01.379353",
     "status": "completed"
    },
    "tags": []
   },
   "source": [
    "<code style=\"background:gainsboro;color:black;font-size:140%\"> Passo 4: </code> \n",
    "<p style=\"font-size: 100%\"><i><b>Crie uma tabela pivô para o dataframe com os userIDs no índice, os nomes dos filmes nas colunas e o notas como valores.<b></i></p>"
   ]
  },
  {
   "cell_type": "code",
   "execution_count": 32,
   "id": "ee43beb4",
   "metadata": {
    "execution": {
     "iopub.execute_input": "2023-07-25T15:57:01.421952Z",
     "iopub.status.busy": "2023-07-25T15:57:01.421475Z",
     "iopub.status.idle": "2023-07-25T15:57:39.794304Z",
     "shell.execute_reply": "2023-07-25T15:57:39.792600Z"
    },
    "papermill": {
     "duration": 38.403609,
     "end_time": "2023-07-25T15:57:39.810313",
     "exception": false,
     "start_time": "2023-07-25T15:57:01.406704",
     "status": "completed"
    },
    "tags": []
   },
   "outputs": [
    {
     "data": {
      "text/html": [
       "<div>\n",
       "<style scoped>\n",
       "    .dataframe tbody tr th:only-of-type {\n",
       "        vertical-align: middle;\n",
       "    }\n",
       "\n",
       "    .dataframe tbody tr th {\n",
       "        vertical-align: top;\n",
       "    }\n",
       "\n",
       "    .dataframe thead th {\n",
       "        text-align: right;\n",
       "    }\n",
       "</style>\n",
       "<table border=\"1\" class=\"dataframe\">\n",
       "  <thead>\n",
       "    <tr style=\"text-align: right;\">\n",
       "      <th>title</th>\n",
       "      <th>(500) Days of Summer (2009)</th>\n",
       "      <th>10 Things I Hate About You (1999)</th>\n",
       "      <th>101 Dalmatians (1996)</th>\n",
       "      <th>101 Dalmatians (One Hundred and One Dalmatians) (1961)</th>\n",
       "      <th>12 Angry Men (1957)</th>\n",
       "      <th>13th Warrior, The (1999)</th>\n",
       "      <th>1984 (Nineteen Eighty-Four) (1984)</th>\n",
       "      <th>2 Fast 2 Furious (Fast and the Furious 2, The) (2003)</th>\n",
       "      <th>20,000 Leagues Under the Sea (1954)</th>\n",
       "      <th>2001: A Space Odyssey (1968)</th>\n",
       "      <th>2010: The Year We Make Contact (1984)</th>\n",
       "      <th>21 Grams (2003)</th>\n",
       "      <th>25th Hour (2002)</th>\n",
       "      <th>28 Days (2000)</th>\n",
       "      <th>28 Days Later (2002)</th>\n",
       "      <th>28 Weeks Later (2007)</th>\n",
       "      <th>300 (2007)</th>\n",
       "      <th>39 Steps, The (1935)</th>\n",
       "      <th>3:10 to Yuma (2007)</th>\n",
       "      <th>40-Year-Old Virgin, The (2005)</th>\n",
       "      <th>48 Hrs. (1982)</th>\n",
       "      <th>50 First Dates (2004)</th>\n",
       "      <th>6th Day, The (2000)</th>\n",
       "      <th>8 Mile (2002)</th>\n",
       "      <th>8MM (1999)</th>\n",
       "      <th>A.I. Artificial Intelligence (2001)</th>\n",
       "      <th>AVP: Alien vs. Predator (2004)</th>\n",
       "      <th>About Schmidt (2002)</th>\n",
       "      <th>About a Boy (2002)</th>\n",
       "      <th>Absolute Power (1997)</th>\n",
       "      <th>Abyss, The (1989)</th>\n",
       "      <th>Ace Ventura: Pet Detective (1994)</th>\n",
       "      <th>Ace Ventura: When Nature Calls (1995)</th>\n",
       "      <th>Adaptation (2002)</th>\n",
       "      <th>Addams Family Values (1993)</th>\n",
       "      <th>Addams Family, The (1991)</th>\n",
       "      <th>Adventures in Babysitting (1987)</th>\n",
       "      <th>Adventures of Buckaroo Banzai Across the 8th Dimension, The (1984)</th>\n",
       "      <th>Adventures of Priscilla, Queen of the Desert, The (1994)</th>\n",
       "      <th>Adventures of Robin Hood, The (1938)</th>\n",
       "      <th>African Queen, The (1951)</th>\n",
       "      <th>Age of Innocence, The (1993)</th>\n",
       "      <th>Air Force One (1997)</th>\n",
       "      <th>Airheads (1994)</th>\n",
       "      <th>Airplane II: The Sequel (1982)</th>\n",
       "      <th>Airplane! (1980)</th>\n",
       "      <th>Akira (1988)</th>\n",
       "      <th>Aladdin (1992)</th>\n",
       "      <th>Alice in Wonderland (1951)</th>\n",
       "      <th>Alien (1979)</th>\n",
       "      <th>...</th>\n",
       "      <th>Welcome to the Dollhouse (1995)</th>\n",
       "      <th>West Side Story (1961)</th>\n",
       "      <th>Westworld (1973)</th>\n",
       "      <th>Whale Rider (2002)</th>\n",
       "      <th>What About Bob? (1991)</th>\n",
       "      <th>What Dreams May Come (1998)</th>\n",
       "      <th>What Lies Beneath (2000)</th>\n",
       "      <th>What Women Want (2000)</th>\n",
       "      <th>What's Eating Gilbert Grape (1993)</th>\n",
       "      <th>What's Love Got to Do with It? (1993)</th>\n",
       "      <th>When Harry Met Sally... (1989)</th>\n",
       "      <th>When We Were Kings (1996)</th>\n",
       "      <th>When a Man Loves a Woman (1994)</th>\n",
       "      <th>While You Were Sleeping (1995)</th>\n",
       "      <th>White Men Can't Jump (1992)</th>\n",
       "      <th>White Squall (1996)</th>\n",
       "      <th>Who Framed Roger Rabbit? (1988)</th>\n",
       "      <th>Whole Nine Yards, The (2000)</th>\n",
       "      <th>Wild Things (1998)</th>\n",
       "      <th>Wild Wild West (1999)</th>\n",
       "      <th>William Shakespeare's A Midsummer Night's Dream (1999)</th>\n",
       "      <th>William Shakespeare's Romeo + Juliet (1996)</th>\n",
       "      <th>Willow (1988)</th>\n",
       "      <th>Willy Wonka &amp; the Chocolate Factory (1971)</th>\n",
       "      <th>Wings of Desire (Himmel über Berlin, Der) (1987)</th>\n",
       "      <th>Winnie the Pooh and the Blustery Day (1968)</th>\n",
       "      <th>Witness (1985)</th>\n",
       "      <th>Wizard of Oz, The (1939)</th>\n",
       "      <th>Wolf (1994)</th>\n",
       "      <th>Wonder Boys (2000)</th>\n",
       "      <th>Working Girl (1988)</th>\n",
       "      <th>World Is Not Enough, The (1999)</th>\n",
       "      <th>Wrestler, The (2008)</th>\n",
       "      <th>Wyatt Earp (1994)</th>\n",
       "      <th>X-Files: Fight the Future, The (1998)</th>\n",
       "      <th>X-Men (2000)</th>\n",
       "      <th>X-Men: First Class (2011)</th>\n",
       "      <th>X-Men: The Last Stand (2006)</th>\n",
       "      <th>X2: X-Men United (2003)</th>\n",
       "      <th>Yellow Submarine (1968)</th>\n",
       "      <th>Yojimbo (1961)</th>\n",
       "      <th>You've Got Mail (1998)</th>\n",
       "      <th>Young Frankenstein (1974)</th>\n",
       "      <th>Young Guns (1988)</th>\n",
       "      <th>Zodiac (2007)</th>\n",
       "      <th>Zombieland (2009)</th>\n",
       "      <th>Zoolander (2001)</th>\n",
       "      <th>eXistenZ (1999)</th>\n",
       "      <th>xXx (2002)</th>\n",
       "      <th>¡Three Amigos! (1986)</th>\n",
       "    </tr>\n",
       "    <tr>\n",
       "      <th>userId</th>\n",
       "      <th></th>\n",
       "      <th></th>\n",
       "      <th></th>\n",
       "      <th></th>\n",
       "      <th></th>\n",
       "      <th></th>\n",
       "      <th></th>\n",
       "      <th></th>\n",
       "      <th></th>\n",
       "      <th></th>\n",
       "      <th></th>\n",
       "      <th></th>\n",
       "      <th></th>\n",
       "      <th></th>\n",
       "      <th></th>\n",
       "      <th></th>\n",
       "      <th></th>\n",
       "      <th></th>\n",
       "      <th></th>\n",
       "      <th></th>\n",
       "      <th></th>\n",
       "      <th></th>\n",
       "      <th></th>\n",
       "      <th></th>\n",
       "      <th></th>\n",
       "      <th></th>\n",
       "      <th></th>\n",
       "      <th></th>\n",
       "      <th></th>\n",
       "      <th></th>\n",
       "      <th></th>\n",
       "      <th></th>\n",
       "      <th></th>\n",
       "      <th></th>\n",
       "      <th></th>\n",
       "      <th></th>\n",
       "      <th></th>\n",
       "      <th></th>\n",
       "      <th></th>\n",
       "      <th></th>\n",
       "      <th></th>\n",
       "      <th></th>\n",
       "      <th></th>\n",
       "      <th></th>\n",
       "      <th></th>\n",
       "      <th></th>\n",
       "      <th></th>\n",
       "      <th></th>\n",
       "      <th></th>\n",
       "      <th></th>\n",
       "      <th></th>\n",
       "      <th></th>\n",
       "      <th></th>\n",
       "      <th></th>\n",
       "      <th></th>\n",
       "      <th></th>\n",
       "      <th></th>\n",
       "      <th></th>\n",
       "      <th></th>\n",
       "      <th></th>\n",
       "      <th></th>\n",
       "      <th></th>\n",
       "      <th></th>\n",
       "      <th></th>\n",
       "      <th></th>\n",
       "      <th></th>\n",
       "      <th></th>\n",
       "      <th></th>\n",
       "      <th></th>\n",
       "      <th></th>\n",
       "      <th></th>\n",
       "      <th></th>\n",
       "      <th></th>\n",
       "      <th></th>\n",
       "      <th></th>\n",
       "      <th></th>\n",
       "      <th></th>\n",
       "      <th></th>\n",
       "      <th></th>\n",
       "      <th></th>\n",
       "      <th></th>\n",
       "      <th></th>\n",
       "      <th></th>\n",
       "      <th></th>\n",
       "      <th></th>\n",
       "      <th></th>\n",
       "      <th></th>\n",
       "      <th></th>\n",
       "      <th></th>\n",
       "      <th></th>\n",
       "      <th></th>\n",
       "      <th></th>\n",
       "      <th></th>\n",
       "      <th></th>\n",
       "      <th></th>\n",
       "      <th></th>\n",
       "      <th></th>\n",
       "      <th></th>\n",
       "      <th></th>\n",
       "      <th></th>\n",
       "      <th></th>\n",
       "    </tr>\n",
       "  </thead>\n",
       "  <tbody>\n",
       "    <tr>\n",
       "      <th>1</th>\n",
       "      <td>NaN</td>\n",
       "      <td>NaN</td>\n",
       "      <td>NaN</td>\n",
       "      <td>NaN</td>\n",
       "      <td>NaN</td>\n",
       "      <td>NaN</td>\n",
       "      <td>NaN</td>\n",
       "      <td>NaN</td>\n",
       "      <td>NaN</td>\n",
       "      <td>3.5</td>\n",
       "      <td>NaN</td>\n",
       "      <td>NaN</td>\n",
       "      <td>NaN</td>\n",
       "      <td>NaN</td>\n",
       "      <td>NaN</td>\n",
       "      <td>NaN</td>\n",
       "      <td>NaN</td>\n",
       "      <td>NaN</td>\n",
       "      <td>NaN</td>\n",
       "      <td>NaN</td>\n",
       "      <td>NaN</td>\n",
       "      <td>NaN</td>\n",
       "      <td>NaN</td>\n",
       "      <td>NaN</td>\n",
       "      <td>NaN</td>\n",
       "      <td>NaN</td>\n",
       "      <td>NaN</td>\n",
       "      <td>NaN</td>\n",
       "      <td>NaN</td>\n",
       "      <td>NaN</td>\n",
       "      <td>NaN</td>\n",
       "      <td>NaN</td>\n",
       "      <td>NaN</td>\n",
       "      <td>NaN</td>\n",
       "      <td>NaN</td>\n",
       "      <td>NaN</td>\n",
       "      <td>NaN</td>\n",
       "      <td>NaN</td>\n",
       "      <td>NaN</td>\n",
       "      <td>NaN</td>\n",
       "      <td>NaN</td>\n",
       "      <td>NaN</td>\n",
       "      <td>NaN</td>\n",
       "      <td>NaN</td>\n",
       "      <td>NaN</td>\n",
       "      <td>NaN</td>\n",
       "      <td>NaN</td>\n",
       "      <td>NaN</td>\n",
       "      <td>NaN</td>\n",
       "      <td>NaN</td>\n",
       "      <td>...</td>\n",
       "      <td>NaN</td>\n",
       "      <td>NaN</td>\n",
       "      <td>NaN</td>\n",
       "      <td>NaN</td>\n",
       "      <td>NaN</td>\n",
       "      <td>NaN</td>\n",
       "      <td>NaN</td>\n",
       "      <td>NaN</td>\n",
       "      <td>NaN</td>\n",
       "      <td>NaN</td>\n",
       "      <td>NaN</td>\n",
       "      <td>NaN</td>\n",
       "      <td>NaN</td>\n",
       "      <td>NaN</td>\n",
       "      <td>NaN</td>\n",
       "      <td>NaN</td>\n",
       "      <td>NaN</td>\n",
       "      <td>NaN</td>\n",
       "      <td>NaN</td>\n",
       "      <td>NaN</td>\n",
       "      <td>NaN</td>\n",
       "      <td>NaN</td>\n",
       "      <td>4.0</td>\n",
       "      <td>NaN</td>\n",
       "      <td>NaN</td>\n",
       "      <td>NaN</td>\n",
       "      <td>NaN</td>\n",
       "      <td>3.5</td>\n",
       "      <td>NaN</td>\n",
       "      <td>NaN</td>\n",
       "      <td>NaN</td>\n",
       "      <td>NaN</td>\n",
       "      <td>NaN</td>\n",
       "      <td>NaN</td>\n",
       "      <td>NaN</td>\n",
       "      <td>NaN</td>\n",
       "      <td>NaN</td>\n",
       "      <td>NaN</td>\n",
       "      <td>4.0</td>\n",
       "      <td>NaN</td>\n",
       "      <td>NaN</td>\n",
       "      <td>NaN</td>\n",
       "      <td>NaN</td>\n",
       "      <td>NaN</td>\n",
       "      <td>NaN</td>\n",
       "      <td>NaN</td>\n",
       "      <td>NaN</td>\n",
       "      <td>NaN</td>\n",
       "      <td>NaN</td>\n",
       "      <td>NaN</td>\n",
       "    </tr>\n",
       "    <tr>\n",
       "      <th>2</th>\n",
       "      <td>NaN</td>\n",
       "      <td>NaN</td>\n",
       "      <td>NaN</td>\n",
       "      <td>NaN</td>\n",
       "      <td>NaN</td>\n",
       "      <td>NaN</td>\n",
       "      <td>NaN</td>\n",
       "      <td>NaN</td>\n",
       "      <td>NaN</td>\n",
       "      <td>NaN</td>\n",
       "      <td>NaN</td>\n",
       "      <td>NaN</td>\n",
       "      <td>NaN</td>\n",
       "      <td>NaN</td>\n",
       "      <td>NaN</td>\n",
       "      <td>NaN</td>\n",
       "      <td>NaN</td>\n",
       "      <td>NaN</td>\n",
       "      <td>NaN</td>\n",
       "      <td>NaN</td>\n",
       "      <td>NaN</td>\n",
       "      <td>NaN</td>\n",
       "      <td>NaN</td>\n",
       "      <td>NaN</td>\n",
       "      <td>NaN</td>\n",
       "      <td>NaN</td>\n",
       "      <td>NaN</td>\n",
       "      <td>NaN</td>\n",
       "      <td>NaN</td>\n",
       "      <td>NaN</td>\n",
       "      <td>NaN</td>\n",
       "      <td>NaN</td>\n",
       "      <td>NaN</td>\n",
       "      <td>NaN</td>\n",
       "      <td>NaN</td>\n",
       "      <td>NaN</td>\n",
       "      <td>NaN</td>\n",
       "      <td>NaN</td>\n",
       "      <td>NaN</td>\n",
       "      <td>NaN</td>\n",
       "      <td>NaN</td>\n",
       "      <td>NaN</td>\n",
       "      <td>NaN</td>\n",
       "      <td>NaN</td>\n",
       "      <td>NaN</td>\n",
       "      <td>NaN</td>\n",
       "      <td>NaN</td>\n",
       "      <td>NaN</td>\n",
       "      <td>NaN</td>\n",
       "      <td>NaN</td>\n",
       "      <td>...</td>\n",
       "      <td>NaN</td>\n",
       "      <td>NaN</td>\n",
       "      <td>NaN</td>\n",
       "      <td>NaN</td>\n",
       "      <td>NaN</td>\n",
       "      <td>NaN</td>\n",
       "      <td>NaN</td>\n",
       "      <td>NaN</td>\n",
       "      <td>NaN</td>\n",
       "      <td>NaN</td>\n",
       "      <td>NaN</td>\n",
       "      <td>NaN</td>\n",
       "      <td>NaN</td>\n",
       "      <td>NaN</td>\n",
       "      <td>NaN</td>\n",
       "      <td>NaN</td>\n",
       "      <td>NaN</td>\n",
       "      <td>NaN</td>\n",
       "      <td>NaN</td>\n",
       "      <td>NaN</td>\n",
       "      <td>NaN</td>\n",
       "      <td>NaN</td>\n",
       "      <td>NaN</td>\n",
       "      <td>NaN</td>\n",
       "      <td>NaN</td>\n",
       "      <td>NaN</td>\n",
       "      <td>NaN</td>\n",
       "      <td>NaN</td>\n",
       "      <td>NaN</td>\n",
       "      <td>NaN</td>\n",
       "      <td>NaN</td>\n",
       "      <td>NaN</td>\n",
       "      <td>NaN</td>\n",
       "      <td>NaN</td>\n",
       "      <td>NaN</td>\n",
       "      <td>NaN</td>\n",
       "      <td>NaN</td>\n",
       "      <td>NaN</td>\n",
       "      <td>NaN</td>\n",
       "      <td>NaN</td>\n",
       "      <td>NaN</td>\n",
       "      <td>NaN</td>\n",
       "      <td>NaN</td>\n",
       "      <td>NaN</td>\n",
       "      <td>NaN</td>\n",
       "      <td>NaN</td>\n",
       "      <td>NaN</td>\n",
       "      <td>NaN</td>\n",
       "      <td>NaN</td>\n",
       "      <td>NaN</td>\n",
       "    </tr>\n",
       "    <tr>\n",
       "      <th>3</th>\n",
       "      <td>NaN</td>\n",
       "      <td>NaN</td>\n",
       "      <td>NaN</td>\n",
       "      <td>NaN</td>\n",
       "      <td>NaN</td>\n",
       "      <td>NaN</td>\n",
       "      <td>NaN</td>\n",
       "      <td>NaN</td>\n",
       "      <td>NaN</td>\n",
       "      <td>NaN</td>\n",
       "      <td>NaN</td>\n",
       "      <td>NaN</td>\n",
       "      <td>NaN</td>\n",
       "      <td>NaN</td>\n",
       "      <td>NaN</td>\n",
       "      <td>NaN</td>\n",
       "      <td>NaN</td>\n",
       "      <td>NaN</td>\n",
       "      <td>NaN</td>\n",
       "      <td>NaN</td>\n",
       "      <td>NaN</td>\n",
       "      <td>NaN</td>\n",
       "      <td>NaN</td>\n",
       "      <td>NaN</td>\n",
       "      <td>NaN</td>\n",
       "      <td>NaN</td>\n",
       "      <td>NaN</td>\n",
       "      <td>NaN</td>\n",
       "      <td>NaN</td>\n",
       "      <td>NaN</td>\n",
       "      <td>3.0</td>\n",
       "      <td>NaN</td>\n",
       "      <td>NaN</td>\n",
       "      <td>NaN</td>\n",
       "      <td>NaN</td>\n",
       "      <td>NaN</td>\n",
       "      <td>NaN</td>\n",
       "      <td>NaN</td>\n",
       "      <td>NaN</td>\n",
       "      <td>NaN</td>\n",
       "      <td>NaN</td>\n",
       "      <td>NaN</td>\n",
       "      <td>NaN</td>\n",
       "      <td>NaN</td>\n",
       "      <td>NaN</td>\n",
       "      <td>NaN</td>\n",
       "      <td>NaN</td>\n",
       "      <td>NaN</td>\n",
       "      <td>NaN</td>\n",
       "      <td>5.0</td>\n",
       "      <td>...</td>\n",
       "      <td>NaN</td>\n",
       "      <td>NaN</td>\n",
       "      <td>NaN</td>\n",
       "      <td>NaN</td>\n",
       "      <td>NaN</td>\n",
       "      <td>NaN</td>\n",
       "      <td>NaN</td>\n",
       "      <td>NaN</td>\n",
       "      <td>NaN</td>\n",
       "      <td>NaN</td>\n",
       "      <td>NaN</td>\n",
       "      <td>NaN</td>\n",
       "      <td>NaN</td>\n",
       "      <td>NaN</td>\n",
       "      <td>NaN</td>\n",
       "      <td>NaN</td>\n",
       "      <td>NaN</td>\n",
       "      <td>NaN</td>\n",
       "      <td>NaN</td>\n",
       "      <td>NaN</td>\n",
       "      <td>NaN</td>\n",
       "      <td>NaN</td>\n",
       "      <td>NaN</td>\n",
       "      <td>NaN</td>\n",
       "      <td>NaN</td>\n",
       "      <td>NaN</td>\n",
       "      <td>4.0</td>\n",
       "      <td>NaN</td>\n",
       "      <td>NaN</td>\n",
       "      <td>NaN</td>\n",
       "      <td>NaN</td>\n",
       "      <td>NaN</td>\n",
       "      <td>NaN</td>\n",
       "      <td>NaN</td>\n",
       "      <td>5.0</td>\n",
       "      <td>NaN</td>\n",
       "      <td>NaN</td>\n",
       "      <td>NaN</td>\n",
       "      <td>NaN</td>\n",
       "      <td>NaN</td>\n",
       "      <td>NaN</td>\n",
       "      <td>NaN</td>\n",
       "      <td>NaN</td>\n",
       "      <td>NaN</td>\n",
       "      <td>NaN</td>\n",
       "      <td>NaN</td>\n",
       "      <td>NaN</td>\n",
       "      <td>NaN</td>\n",
       "      <td>NaN</td>\n",
       "      <td>NaN</td>\n",
       "    </tr>\n",
       "    <tr>\n",
       "      <th>4</th>\n",
       "      <td>NaN</td>\n",
       "      <td>NaN</td>\n",
       "      <td>NaN</td>\n",
       "      <td>NaN</td>\n",
       "      <td>NaN</td>\n",
       "      <td>NaN</td>\n",
       "      <td>NaN</td>\n",
       "      <td>NaN</td>\n",
       "      <td>NaN</td>\n",
       "      <td>NaN</td>\n",
       "      <td>NaN</td>\n",
       "      <td>NaN</td>\n",
       "      <td>NaN</td>\n",
       "      <td>NaN</td>\n",
       "      <td>NaN</td>\n",
       "      <td>NaN</td>\n",
       "      <td>NaN</td>\n",
       "      <td>NaN</td>\n",
       "      <td>NaN</td>\n",
       "      <td>NaN</td>\n",
       "      <td>NaN</td>\n",
       "      <td>NaN</td>\n",
       "      <td>NaN</td>\n",
       "      <td>NaN</td>\n",
       "      <td>NaN</td>\n",
       "      <td>NaN</td>\n",
       "      <td>NaN</td>\n",
       "      <td>NaN</td>\n",
       "      <td>NaN</td>\n",
       "      <td>NaN</td>\n",
       "      <td>NaN</td>\n",
       "      <td>NaN</td>\n",
       "      <td>3.0</td>\n",
       "      <td>NaN</td>\n",
       "      <td>NaN</td>\n",
       "      <td>NaN</td>\n",
       "      <td>NaN</td>\n",
       "      <td>NaN</td>\n",
       "      <td>NaN</td>\n",
       "      <td>NaN</td>\n",
       "      <td>NaN</td>\n",
       "      <td>NaN</td>\n",
       "      <td>NaN</td>\n",
       "      <td>NaN</td>\n",
       "      <td>NaN</td>\n",
       "      <td>NaN</td>\n",
       "      <td>NaN</td>\n",
       "      <td>NaN</td>\n",
       "      <td>NaN</td>\n",
       "      <td>NaN</td>\n",
       "      <td>...</td>\n",
       "      <td>NaN</td>\n",
       "      <td>NaN</td>\n",
       "      <td>NaN</td>\n",
       "      <td>NaN</td>\n",
       "      <td>NaN</td>\n",
       "      <td>NaN</td>\n",
       "      <td>NaN</td>\n",
       "      <td>NaN</td>\n",
       "      <td>NaN</td>\n",
       "      <td>NaN</td>\n",
       "      <td>NaN</td>\n",
       "      <td>NaN</td>\n",
       "      <td>NaN</td>\n",
       "      <td>NaN</td>\n",
       "      <td>NaN</td>\n",
       "      <td>NaN</td>\n",
       "      <td>NaN</td>\n",
       "      <td>NaN</td>\n",
       "      <td>NaN</td>\n",
       "      <td>NaN</td>\n",
       "      <td>NaN</td>\n",
       "      <td>NaN</td>\n",
       "      <td>NaN</td>\n",
       "      <td>NaN</td>\n",
       "      <td>NaN</td>\n",
       "      <td>NaN</td>\n",
       "      <td>NaN</td>\n",
       "      <td>NaN</td>\n",
       "      <td>NaN</td>\n",
       "      <td>NaN</td>\n",
       "      <td>NaN</td>\n",
       "      <td>NaN</td>\n",
       "      <td>NaN</td>\n",
       "      <td>NaN</td>\n",
       "      <td>NaN</td>\n",
       "      <td>NaN</td>\n",
       "      <td>NaN</td>\n",
       "      <td>NaN</td>\n",
       "      <td>NaN</td>\n",
       "      <td>NaN</td>\n",
       "      <td>NaN</td>\n",
       "      <td>NaN</td>\n",
       "      <td>NaN</td>\n",
       "      <td>NaN</td>\n",
       "      <td>NaN</td>\n",
       "      <td>NaN</td>\n",
       "      <td>NaN</td>\n",
       "      <td>NaN</td>\n",
       "      <td>NaN</td>\n",
       "      <td>NaN</td>\n",
       "    </tr>\n",
       "    <tr>\n",
       "      <th>5</th>\n",
       "      <td>NaN</td>\n",
       "      <td>NaN</td>\n",
       "      <td>NaN</td>\n",
       "      <td>NaN</td>\n",
       "      <td>NaN</td>\n",
       "      <td>NaN</td>\n",
       "      <td>NaN</td>\n",
       "      <td>NaN</td>\n",
       "      <td>NaN</td>\n",
       "      <td>NaN</td>\n",
       "      <td>NaN</td>\n",
       "      <td>NaN</td>\n",
       "      <td>NaN</td>\n",
       "      <td>NaN</td>\n",
       "      <td>NaN</td>\n",
       "      <td>NaN</td>\n",
       "      <td>NaN</td>\n",
       "      <td>NaN</td>\n",
       "      <td>NaN</td>\n",
       "      <td>NaN</td>\n",
       "      <td>NaN</td>\n",
       "      <td>NaN</td>\n",
       "      <td>NaN</td>\n",
       "      <td>NaN</td>\n",
       "      <td>NaN</td>\n",
       "      <td>NaN</td>\n",
       "      <td>NaN</td>\n",
       "      <td>NaN</td>\n",
       "      <td>NaN</td>\n",
       "      <td>NaN</td>\n",
       "      <td>NaN</td>\n",
       "      <td>NaN</td>\n",
       "      <td>NaN</td>\n",
       "      <td>NaN</td>\n",
       "      <td>NaN</td>\n",
       "      <td>NaN</td>\n",
       "      <td>NaN</td>\n",
       "      <td>NaN</td>\n",
       "      <td>NaN</td>\n",
       "      <td>NaN</td>\n",
       "      <td>NaN</td>\n",
       "      <td>NaN</td>\n",
       "      <td>NaN</td>\n",
       "      <td>NaN</td>\n",
       "      <td>NaN</td>\n",
       "      <td>NaN</td>\n",
       "      <td>NaN</td>\n",
       "      <td>NaN</td>\n",
       "      <td>NaN</td>\n",
       "      <td>NaN</td>\n",
       "      <td>...</td>\n",
       "      <td>NaN</td>\n",
       "      <td>NaN</td>\n",
       "      <td>NaN</td>\n",
       "      <td>NaN</td>\n",
       "      <td>NaN</td>\n",
       "      <td>NaN</td>\n",
       "      <td>NaN</td>\n",
       "      <td>NaN</td>\n",
       "      <td>NaN</td>\n",
       "      <td>NaN</td>\n",
       "      <td>NaN</td>\n",
       "      <td>NaN</td>\n",
       "      <td>NaN</td>\n",
       "      <td>NaN</td>\n",
       "      <td>NaN</td>\n",
       "      <td>NaN</td>\n",
       "      <td>NaN</td>\n",
       "      <td>NaN</td>\n",
       "      <td>NaN</td>\n",
       "      <td>NaN</td>\n",
       "      <td>NaN</td>\n",
       "      <td>NaN</td>\n",
       "      <td>NaN</td>\n",
       "      <td>NaN</td>\n",
       "      <td>NaN</td>\n",
       "      <td>NaN</td>\n",
       "      <td>NaN</td>\n",
       "      <td>NaN</td>\n",
       "      <td>NaN</td>\n",
       "      <td>NaN</td>\n",
       "      <td>NaN</td>\n",
       "      <td>NaN</td>\n",
       "      <td>NaN</td>\n",
       "      <td>NaN</td>\n",
       "      <td>NaN</td>\n",
       "      <td>NaN</td>\n",
       "      <td>NaN</td>\n",
       "      <td>NaN</td>\n",
       "      <td>NaN</td>\n",
       "      <td>NaN</td>\n",
       "      <td>NaN</td>\n",
       "      <td>NaN</td>\n",
       "      <td>NaN</td>\n",
       "      <td>NaN</td>\n",
       "      <td>NaN</td>\n",
       "      <td>NaN</td>\n",
       "      <td>NaN</td>\n",
       "      <td>NaN</td>\n",
       "      <td>NaN</td>\n",
       "      <td>NaN</td>\n",
       "    </tr>\n",
       "  </tbody>\n",
       "</table>\n",
       "<p>5 rows × 1442 columns</p>\n",
       "</div>"
      ],
      "text/plain": [
       "title   (500) Days of Summer (2009)  10 Things I Hate About You (1999)  101 Dalmatians (1996)  101 Dalmatians (One Hundred and One Dalmatians) (1961)  12 Angry Men (1957)  13th Warrior, The (1999)  1984 (Nineteen Eighty-Four) (1984)  2 Fast 2 Furious (Fast and the Furious 2, The) (2003)  20,000 Leagues Under the Sea (1954)  2001: A Space Odyssey (1968)  2010: The Year We Make Contact (1984)  21 Grams (2003)  25th Hour (2002)  28 Days (2000)  28 Days Later (2002)  28 Weeks Later (2007)  \\\n",
       "userId                                                                                                                                                                                                                                                                                                                                                                                                                                                                                                      \n",
       "1                               NaN                                NaN                    NaN                                                NaN                       NaN                       NaN                                 NaN                                                NaN                                      NaN                           3.5                                    NaN              NaN               NaN             NaN                   NaN                    NaN   \n",
       "2                               NaN                                NaN                    NaN                                                NaN                       NaN                       NaN                                 NaN                                                NaN                                      NaN                           NaN                                    NaN              NaN               NaN             NaN                   NaN                    NaN   \n",
       "3                               NaN                                NaN                    NaN                                                NaN                       NaN                       NaN                                 NaN                                                NaN                                      NaN                           NaN                                    NaN              NaN               NaN             NaN                   NaN                    NaN   \n",
       "4                               NaN                                NaN                    NaN                                                NaN                       NaN                       NaN                                 NaN                                                NaN                                      NaN                           NaN                                    NaN              NaN               NaN             NaN                   NaN                    NaN   \n",
       "5                               NaN                                NaN                    NaN                                                NaN                       NaN                       NaN                                 NaN                                                NaN                                      NaN                           NaN                                    NaN              NaN               NaN             NaN                   NaN                    NaN   \n",
       "\n",
       "title   300 (2007)  39 Steps, The (1935)  3:10 to Yuma (2007)  40-Year-Old Virgin, The (2005)  48 Hrs. (1982)  50 First Dates (2004)  6th Day, The (2000)  8 Mile (2002)  8MM (1999)  A.I. Artificial Intelligence (2001)  AVP: Alien vs. Predator (2004)  About Schmidt (2002)  About a Boy (2002)  Absolute Power (1997)  Abyss, The (1989)  Ace Ventura: Pet Detective (1994)  Ace Ventura: When Nature Calls (1995)  Adaptation (2002)  Addams Family Values (1993)  Addams Family, The (1991)  \\\n",
       "userId                                                                                                                                                                                                                                                                                                                                                                                                                                                                                               \n",
       "1              NaN                   NaN                  NaN                             NaN             NaN                    NaN                  NaN            NaN         NaN                                  NaN                             NaN                   NaN                 NaN                    NaN                NaN                                NaN                                    NaN                NaN                          NaN                        NaN   \n",
       "2              NaN                   NaN                  NaN                             NaN             NaN                    NaN                  NaN            NaN         NaN                                  NaN                             NaN                   NaN                 NaN                    NaN                NaN                                NaN                                    NaN                NaN                          NaN                        NaN   \n",
       "3              NaN                   NaN                  NaN                             NaN             NaN                    NaN                  NaN            NaN         NaN                                  NaN                             NaN                   NaN                 NaN                    NaN                3.0                                NaN                                    NaN                NaN                          NaN                        NaN   \n",
       "4              NaN                   NaN                  NaN                             NaN             NaN                    NaN                  NaN            NaN         NaN                                  NaN                             NaN                   NaN                 NaN                    NaN                NaN                                NaN                                    3.0                NaN                          NaN                        NaN   \n",
       "5              NaN                   NaN                  NaN                             NaN             NaN                    NaN                  NaN            NaN         NaN                                  NaN                             NaN                   NaN                 NaN                    NaN                NaN                                NaN                                    NaN                NaN                          NaN                        NaN   \n",
       "\n",
       "title   Adventures in Babysitting (1987)  Adventures of Buckaroo Banzai Across the 8th Dimension, The (1984)  Adventures of Priscilla, Queen of the Desert, The (1994)  Adventures of Robin Hood, The (1938)  African Queen, The (1951)  Age of Innocence, The (1993)  Air Force One (1997)  Airheads (1994)  Airplane II: The Sequel (1982)  Airplane! (1980)  Akira (1988)  Aladdin (1992)  Alice in Wonderland (1951)  Alien (1979)  ...  Welcome to the Dollhouse (1995)  West Side Story (1961)  \\\n",
       "userId                                                                                                                                                                                                                                                                                                                                                                                                                                  ...                                                            \n",
       "1                                    NaN                                                NaN                                                                 NaN                                          NaN                        NaN                           NaN                   NaN              NaN                             NaN               NaN           NaN             NaN                         NaN           NaN  ...                              NaN                     NaN   \n",
       "2                                    NaN                                                NaN                                                                 NaN                                          NaN                        NaN                           NaN                   NaN              NaN                             NaN               NaN           NaN             NaN                         NaN           NaN  ...                              NaN                     NaN   \n",
       "3                                    NaN                                                NaN                                                                 NaN                                          NaN                        NaN                           NaN                   NaN              NaN                             NaN               NaN           NaN             NaN                         NaN           5.0  ...                              NaN                     NaN   \n",
       "4                                    NaN                                                NaN                                                                 NaN                                          NaN                        NaN                           NaN                   NaN              NaN                             NaN               NaN           NaN             NaN                         NaN           NaN  ...                              NaN                     NaN   \n",
       "5                                    NaN                                                NaN                                                                 NaN                                          NaN                        NaN                           NaN                   NaN              NaN                             NaN               NaN           NaN             NaN                         NaN           NaN  ...                              NaN                     NaN   \n",
       "\n",
       "title   Westworld (1973)  Whale Rider (2002)  What About Bob? (1991)  What Dreams May Come (1998)  What Lies Beneath (2000)  What Women Want (2000)  What's Eating Gilbert Grape (1993)  What's Love Got to Do with It? (1993)  When Harry Met Sally... (1989)  When We Were Kings (1996)  When a Man Loves a Woman (1994)  While You Were Sleeping (1995)  White Men Can't Jump (1992)  White Squall (1996)  Who Framed Roger Rabbit? (1988)  Whole Nine Yards, The (2000)  Wild Things (1998)  \\\n",
       "userId                                                                                                                                                                                                                                                                                                                                                                                                                                                                                            \n",
       "1                    NaN                 NaN                     NaN                          NaN                       NaN                     NaN                                 NaN                                    NaN                             NaN                        NaN                              NaN                             NaN                          NaN                  NaN                              NaN                           NaN                 NaN   \n",
       "2                    NaN                 NaN                     NaN                          NaN                       NaN                     NaN                                 NaN                                    NaN                             NaN                        NaN                              NaN                             NaN                          NaN                  NaN                              NaN                           NaN                 NaN   \n",
       "3                    NaN                 NaN                     NaN                          NaN                       NaN                     NaN                                 NaN                                    NaN                             NaN                        NaN                              NaN                             NaN                          NaN                  NaN                              NaN                           NaN                 NaN   \n",
       "4                    NaN                 NaN                     NaN                          NaN                       NaN                     NaN                                 NaN                                    NaN                             NaN                        NaN                              NaN                             NaN                          NaN                  NaN                              NaN                           NaN                 NaN   \n",
       "5                    NaN                 NaN                     NaN                          NaN                       NaN                     NaN                                 NaN                                    NaN                             NaN                        NaN                              NaN                             NaN                          NaN                  NaN                              NaN                           NaN                 NaN   \n",
       "\n",
       "title   Wild Wild West (1999)  William Shakespeare's A Midsummer Night's Dream (1999)  William Shakespeare's Romeo + Juliet (1996)  Willow (1988)  Willy Wonka & the Chocolate Factory (1971)  Wings of Desire (Himmel über Berlin, Der) (1987)  Winnie the Pooh and the Blustery Day (1968)  Witness (1985)  Wizard of Oz, The (1939)  Wolf (1994)  Wonder Boys (2000)  Working Girl (1988)  World Is Not Enough, The (1999)  Wrestler, The (2008)  Wyatt Earp (1994)  X-Files: Fight the Future, The (1998)  \\\n",
       "userId                                                                                                                                                                                                                                                                                                                                                                                                                                                                                                          \n",
       "1                         NaN                                                NaN                                               NaN            4.0                                         NaN                                               NaN                                          NaN             NaN                       3.5          NaN                 NaN                  NaN                              NaN                   NaN                NaN                                    NaN   \n",
       "2                         NaN                                                NaN                                               NaN            NaN                                         NaN                                               NaN                                          NaN             NaN                       NaN          NaN                 NaN                  NaN                              NaN                   NaN                NaN                                    NaN   \n",
       "3                         NaN                                                NaN                                               NaN            NaN                                         NaN                                               NaN                                          NaN             4.0                       NaN          NaN                 NaN                  NaN                              NaN                   NaN                NaN                                    5.0   \n",
       "4                         NaN                                                NaN                                               NaN            NaN                                         NaN                                               NaN                                          NaN             NaN                       NaN          NaN                 NaN                  NaN                              NaN                   NaN                NaN                                    NaN   \n",
       "5                         NaN                                                NaN                                               NaN            NaN                                         NaN                                               NaN                                          NaN             NaN                       NaN          NaN                 NaN                  NaN                              NaN                   NaN                NaN                                    NaN   \n",
       "\n",
       "title   X-Men (2000)  X-Men: First Class (2011)  X-Men: The Last Stand (2006)  X2: X-Men United (2003)  Yellow Submarine (1968)  Yojimbo (1961)  You've Got Mail (1998)  Young Frankenstein (1974)  Young Guns (1988)  Zodiac (2007)  Zombieland (2009)  Zoolander (2001)  eXistenZ (1999)  xXx (2002)  ¡Three Amigos! (1986)  \n",
       "userId                                                                                                                                                                                                                                                                                                                         \n",
       "1                NaN                        NaN                           NaN                      4.0                      NaN             NaN                     NaN                        NaN                NaN            NaN                NaN               NaN              NaN         NaN                    NaN  \n",
       "2                NaN                        NaN                           NaN                      NaN                      NaN             NaN                     NaN                        NaN                NaN            NaN                NaN               NaN              NaN         NaN                    NaN  \n",
       "3                NaN                        NaN                           NaN                      NaN                      NaN             NaN                     NaN                        NaN                NaN            NaN                NaN               NaN              NaN         NaN                    NaN  \n",
       "4                NaN                        NaN                           NaN                      NaN                      NaN             NaN                     NaN                        NaN                NaN            NaN                NaN               NaN              NaN         NaN                    NaN  \n",
       "5                NaN                        NaN                           NaN                      NaN                      NaN             NaN                     NaN                        NaN                NaN            NaN                NaN               NaN              NaN         NaN                    NaN  \n",
       "\n",
       "[5 rows x 1442 columns]"
      ]
     },
     "execution_count": 32,
     "metadata": {},
     "output_type": "execute_result"
    }
   ],
   "source": [
    "user_movie_df = popular_movies.pivot_table(index=[\"userId\"], columns=[\"title\"], values=\"rating\")\n",
    "\n",
    "user_movie_df.head()"
   ]
  },
  {
   "cell_type": "markdown",
   "id": "8ce1d5e3",
   "metadata": {
    "papermill": {
     "duration": 0.013213,
     "end_time": "2023-07-25T15:57:39.836896",
     "exception": false,
     "start_time": "2023-07-25T15:57:39.823683",
     "status": "completed"
    },
    "tags": []
   },
   "source": [
    "<code style=\"background:gainsboro;color:black;font-size:140%\"> Passo 4: </code> \n",
    "<p style=\"font-size: 100%\"><i><b>Transforme em funções todas as ações realizadas <b></i></p>"
   ]
  },
  {
   "cell_type": "code",
   "execution_count": 33,
   "id": "3c76ad8e",
   "metadata": {
    "execution": {
     "iopub.execute_input": "2023-07-25T15:57:39.866242Z",
     "iopub.status.busy": "2023-07-25T15:57:39.865758Z",
     "iopub.status.idle": "2023-07-25T15:57:39.873061Z",
     "shell.execute_reply": "2023-07-25T15:57:39.871802Z"
    },
    "papermill": {
     "duration": 0.025034,
     "end_time": "2023-07-25T15:57:39.875396",
     "exception": false,
     "start_time": "2023-07-25T15:57:39.850362",
     "status": "completed"
    },
    "tags": []
   },
   "outputs": [],
   "source": [
    "def data_prep():\n",
    "    \n",
    "    movie = pd.read_csv(\"movie.csv\")\n",
    "    rating = pd.read_csv(\"ratingm.csv\")\n",
    "    df = rating.merge(movie, how=\"left\", on=\"movieId\")\n",
    "    \n",
    "    rating_numbers = pd.DataFrame(df[\"title\"].value_counts())\n",
    "    not_popular_movies = rating_numbers[rating_numbers[\"title\"] <= 1000].index\n",
    "    popular_movies = df[~df[\"title\"].isin(not_popular_movies)]\n",
    "    \n",
    "    user_movie_df = popular_movies.pivot_table(index=[\"userId\"], columns=[\"title\"], values=\"rating\")\n",
    "    \n",
    "    return user_movie_df"
   ]
  },
  {
   "cell_type": "markdown",
   "id": "4bcee2e6",
   "metadata": {
    "papermill": {
     "duration": 0.012932,
     "end_time": "2023-07-25T15:57:39.901869",
     "exception": false,
     "start_time": "2023-07-25T15:57:39.888937",
     "status": "completed"
    },
    "tags": []
   },
   "source": [
    "<code style=\"background:gainsboro;color:black;font-size:190%\"> Tarefa 2: Determinando os filmes assistidos pelos usuários para sugerir</code>"
   ]
  },
  {
   "cell_type": "markdown",
   "id": "fe3321ed",
   "metadata": {
    "papermill": {
     "duration": 0.012877,
     "end_time": "2023-07-25T15:57:39.928093",
     "exception": false,
     "start_time": "2023-07-25T15:57:39.915216",
     "status": "completed"
    },
    "tags": []
   },
   "source": [
    "<code style=\"background:gainsboro;color:black;font-size:140%\"> Passo 1: </code> \n",
    "<p style=\"font-size: 100%\"><i><b>Escolha um id de usuário aleatório<b></i></p>"
   ]
  },
  {
   "cell_type": "code",
   "execution_count": 34,
   "id": "f8d6a319",
   "metadata": {
    "execution": {
     "iopub.execute_input": "2023-07-25T15:57:39.957380Z",
     "iopub.status.busy": "2023-07-25T15:57:39.956091Z",
     "iopub.status.idle": "2023-07-25T15:57:39.967404Z",
     "shell.execute_reply": "2023-07-25T15:57:39.966135Z"
    },
    "papermill": {
     "duration": 0.028816,
     "end_time": "2023-07-25T15:57:39.970113",
     "exception": false,
     "start_time": "2023-07-25T15:57:39.941297",
     "status": "completed"
    },
    "tags": []
   },
   "outputs": [],
   "source": [
    "random_user = int(pd.Series(user_movie_df.index).sample(1, random_state=45).values)\n",
    "random_user = 50017"
   ]
  },
  {
   "cell_type": "markdown",
   "id": "d705a895",
   "metadata": {
    "papermill": {
     "duration": 0.013236,
     "end_time": "2023-07-25T15:57:39.997165",
     "exception": false,
     "start_time": "2023-07-25T15:57:39.983929",
     "status": "completed"
    },
    "tags": []
   },
   "source": [
    "<code style=\"background:gainsboro;color:black;font-size:140%\"> Passo 2: </code> \n",
    "<p style=\"font-size: 100%\"><i><b>Crie um novo dataframe chamado \"random_user_df\", que é composto de unidades de observação do usuário selecionado <b></i></p>"
   ]
  },
  {
   "cell_type": "code",
   "execution_count": 35,
   "id": "8a59acbf",
   "metadata": {
    "execution": {
     "iopub.execute_input": "2023-07-25T15:57:40.030307Z",
     "iopub.status.busy": "2023-07-25T15:57:40.029865Z",
     "iopub.status.idle": "2023-07-25T15:57:40.049289Z",
     "shell.execute_reply": "2023-07-25T15:57:40.047965Z"
    },
    "papermill": {
     "duration": 0.037112,
     "end_time": "2023-07-25T15:57:40.051755",
     "exception": false,
     "start_time": "2023-07-25T15:57:40.014643",
     "status": "completed"
    },
    "tags": []
   },
   "outputs": [
    {
     "data": {
      "text/html": [
       "<div>\n",
       "<style scoped>\n",
       "    .dataframe tbody tr th:only-of-type {\n",
       "        vertical-align: middle;\n",
       "    }\n",
       "\n",
       "    .dataframe tbody tr th {\n",
       "        vertical-align: top;\n",
       "    }\n",
       "\n",
       "    .dataframe thead th {\n",
       "        text-align: right;\n",
       "    }\n",
       "</style>\n",
       "<table border=\"1\" class=\"dataframe\">\n",
       "  <thead>\n",
       "    <tr style=\"text-align: right;\">\n",
       "      <th>title</th>\n",
       "      <th>(500) Days of Summer (2009)</th>\n",
       "      <th>10 Things I Hate About You (1999)</th>\n",
       "      <th>101 Dalmatians (1996)</th>\n",
       "      <th>101 Dalmatians (One Hundred and One Dalmatians) (1961)</th>\n",
       "      <th>12 Angry Men (1957)</th>\n",
       "      <th>13th Warrior, The (1999)</th>\n",
       "      <th>1984 (Nineteen Eighty-Four) (1984)</th>\n",
       "      <th>2 Fast 2 Furious (Fast and the Furious 2, The) (2003)</th>\n",
       "      <th>20,000 Leagues Under the Sea (1954)</th>\n",
       "      <th>2001: A Space Odyssey (1968)</th>\n",
       "      <th>2010: The Year We Make Contact (1984)</th>\n",
       "      <th>21 Grams (2003)</th>\n",
       "      <th>25th Hour (2002)</th>\n",
       "      <th>28 Days (2000)</th>\n",
       "      <th>28 Days Later (2002)</th>\n",
       "      <th>28 Weeks Later (2007)</th>\n",
       "      <th>300 (2007)</th>\n",
       "      <th>39 Steps, The (1935)</th>\n",
       "      <th>3:10 to Yuma (2007)</th>\n",
       "      <th>40-Year-Old Virgin, The (2005)</th>\n",
       "      <th>48 Hrs. (1982)</th>\n",
       "      <th>50 First Dates (2004)</th>\n",
       "      <th>6th Day, The (2000)</th>\n",
       "      <th>8 Mile (2002)</th>\n",
       "      <th>8MM (1999)</th>\n",
       "      <th>A.I. Artificial Intelligence (2001)</th>\n",
       "      <th>AVP: Alien vs. Predator (2004)</th>\n",
       "      <th>About Schmidt (2002)</th>\n",
       "      <th>About a Boy (2002)</th>\n",
       "      <th>Absolute Power (1997)</th>\n",
       "      <th>Abyss, The (1989)</th>\n",
       "      <th>Ace Ventura: Pet Detective (1994)</th>\n",
       "      <th>Ace Ventura: When Nature Calls (1995)</th>\n",
       "      <th>Adaptation (2002)</th>\n",
       "      <th>Addams Family Values (1993)</th>\n",
       "      <th>Addams Family, The (1991)</th>\n",
       "      <th>Adventures in Babysitting (1987)</th>\n",
       "      <th>Adventures of Buckaroo Banzai Across the 8th Dimension, The (1984)</th>\n",
       "      <th>Adventures of Priscilla, Queen of the Desert, The (1994)</th>\n",
       "      <th>Adventures of Robin Hood, The (1938)</th>\n",
       "      <th>African Queen, The (1951)</th>\n",
       "      <th>Age of Innocence, The (1993)</th>\n",
       "      <th>Air Force One (1997)</th>\n",
       "      <th>Airheads (1994)</th>\n",
       "      <th>Airplane II: The Sequel (1982)</th>\n",
       "      <th>Airplane! (1980)</th>\n",
       "      <th>Akira (1988)</th>\n",
       "      <th>Aladdin (1992)</th>\n",
       "      <th>Alice in Wonderland (1951)</th>\n",
       "      <th>Alien (1979)</th>\n",
       "      <th>...</th>\n",
       "      <th>Welcome to the Dollhouse (1995)</th>\n",
       "      <th>West Side Story (1961)</th>\n",
       "      <th>Westworld (1973)</th>\n",
       "      <th>Whale Rider (2002)</th>\n",
       "      <th>What About Bob? (1991)</th>\n",
       "      <th>What Dreams May Come (1998)</th>\n",
       "      <th>What Lies Beneath (2000)</th>\n",
       "      <th>What Women Want (2000)</th>\n",
       "      <th>What's Eating Gilbert Grape (1993)</th>\n",
       "      <th>What's Love Got to Do with It? (1993)</th>\n",
       "      <th>When Harry Met Sally... (1989)</th>\n",
       "      <th>When We Were Kings (1996)</th>\n",
       "      <th>When a Man Loves a Woman (1994)</th>\n",
       "      <th>While You Were Sleeping (1995)</th>\n",
       "      <th>White Men Can't Jump (1992)</th>\n",
       "      <th>White Squall (1996)</th>\n",
       "      <th>Who Framed Roger Rabbit? (1988)</th>\n",
       "      <th>Whole Nine Yards, The (2000)</th>\n",
       "      <th>Wild Things (1998)</th>\n",
       "      <th>Wild Wild West (1999)</th>\n",
       "      <th>William Shakespeare's A Midsummer Night's Dream (1999)</th>\n",
       "      <th>William Shakespeare's Romeo + Juliet (1996)</th>\n",
       "      <th>Willow (1988)</th>\n",
       "      <th>Willy Wonka &amp; the Chocolate Factory (1971)</th>\n",
       "      <th>Wings of Desire (Himmel über Berlin, Der) (1987)</th>\n",
       "      <th>Winnie the Pooh and the Blustery Day (1968)</th>\n",
       "      <th>Witness (1985)</th>\n",
       "      <th>Wizard of Oz, The (1939)</th>\n",
       "      <th>Wolf (1994)</th>\n",
       "      <th>Wonder Boys (2000)</th>\n",
       "      <th>Working Girl (1988)</th>\n",
       "      <th>World Is Not Enough, The (1999)</th>\n",
       "      <th>Wrestler, The (2008)</th>\n",
       "      <th>Wyatt Earp (1994)</th>\n",
       "      <th>X-Files: Fight the Future, The (1998)</th>\n",
       "      <th>X-Men (2000)</th>\n",
       "      <th>X-Men: First Class (2011)</th>\n",
       "      <th>X-Men: The Last Stand (2006)</th>\n",
       "      <th>X2: X-Men United (2003)</th>\n",
       "      <th>Yellow Submarine (1968)</th>\n",
       "      <th>Yojimbo (1961)</th>\n",
       "      <th>You've Got Mail (1998)</th>\n",
       "      <th>Young Frankenstein (1974)</th>\n",
       "      <th>Young Guns (1988)</th>\n",
       "      <th>Zodiac (2007)</th>\n",
       "      <th>Zombieland (2009)</th>\n",
       "      <th>Zoolander (2001)</th>\n",
       "      <th>eXistenZ (1999)</th>\n",
       "      <th>xXx (2002)</th>\n",
       "      <th>¡Three Amigos! (1986)</th>\n",
       "    </tr>\n",
       "    <tr>\n",
       "      <th>userId</th>\n",
       "      <th></th>\n",
       "      <th></th>\n",
       "      <th></th>\n",
       "      <th></th>\n",
       "      <th></th>\n",
       "      <th></th>\n",
       "      <th></th>\n",
       "      <th></th>\n",
       "      <th></th>\n",
       "      <th></th>\n",
       "      <th></th>\n",
       "      <th></th>\n",
       "      <th></th>\n",
       "      <th></th>\n",
       "      <th></th>\n",
       "      <th></th>\n",
       "      <th></th>\n",
       "      <th></th>\n",
       "      <th></th>\n",
       "      <th></th>\n",
       "      <th></th>\n",
       "      <th></th>\n",
       "      <th></th>\n",
       "      <th></th>\n",
       "      <th></th>\n",
       "      <th></th>\n",
       "      <th></th>\n",
       "      <th></th>\n",
       "      <th></th>\n",
       "      <th></th>\n",
       "      <th></th>\n",
       "      <th></th>\n",
       "      <th></th>\n",
       "      <th></th>\n",
       "      <th></th>\n",
       "      <th></th>\n",
       "      <th></th>\n",
       "      <th></th>\n",
       "      <th></th>\n",
       "      <th></th>\n",
       "      <th></th>\n",
       "      <th></th>\n",
       "      <th></th>\n",
       "      <th></th>\n",
       "      <th></th>\n",
       "      <th></th>\n",
       "      <th></th>\n",
       "      <th></th>\n",
       "      <th></th>\n",
       "      <th></th>\n",
       "      <th></th>\n",
       "      <th></th>\n",
       "      <th></th>\n",
       "      <th></th>\n",
       "      <th></th>\n",
       "      <th></th>\n",
       "      <th></th>\n",
       "      <th></th>\n",
       "      <th></th>\n",
       "      <th></th>\n",
       "      <th></th>\n",
       "      <th></th>\n",
       "      <th></th>\n",
       "      <th></th>\n",
       "      <th></th>\n",
       "      <th></th>\n",
       "      <th></th>\n",
       "      <th></th>\n",
       "      <th></th>\n",
       "      <th></th>\n",
       "      <th></th>\n",
       "      <th></th>\n",
       "      <th></th>\n",
       "      <th></th>\n",
       "      <th></th>\n",
       "      <th></th>\n",
       "      <th></th>\n",
       "      <th></th>\n",
       "      <th></th>\n",
       "      <th></th>\n",
       "      <th></th>\n",
       "      <th></th>\n",
       "      <th></th>\n",
       "      <th></th>\n",
       "      <th></th>\n",
       "      <th></th>\n",
       "      <th></th>\n",
       "      <th></th>\n",
       "      <th></th>\n",
       "      <th></th>\n",
       "      <th></th>\n",
       "      <th></th>\n",
       "      <th></th>\n",
       "      <th></th>\n",
       "      <th></th>\n",
       "      <th></th>\n",
       "      <th></th>\n",
       "      <th></th>\n",
       "      <th></th>\n",
       "      <th></th>\n",
       "      <th></th>\n",
       "    </tr>\n",
       "  </thead>\n",
       "  <tbody>\n",
       "    <tr>\n",
       "      <th>50017</th>\n",
       "      <td>NaN</td>\n",
       "      <td>4.5</td>\n",
       "      <td>4.0</td>\n",
       "      <td>NaN</td>\n",
       "      <td>NaN</td>\n",
       "      <td>NaN</td>\n",
       "      <td>NaN</td>\n",
       "      <td>NaN</td>\n",
       "      <td>NaN</td>\n",
       "      <td>NaN</td>\n",
       "      <td>NaN</td>\n",
       "      <td>NaN</td>\n",
       "      <td>NaN</td>\n",
       "      <td>NaN</td>\n",
       "      <td>NaN</td>\n",
       "      <td>NaN</td>\n",
       "      <td>NaN</td>\n",
       "      <td>NaN</td>\n",
       "      <td>NaN</td>\n",
       "      <td>NaN</td>\n",
       "      <td>NaN</td>\n",
       "      <td>NaN</td>\n",
       "      <td>NaN</td>\n",
       "      <td>NaN</td>\n",
       "      <td>NaN</td>\n",
       "      <td>NaN</td>\n",
       "      <td>NaN</td>\n",
       "      <td>NaN</td>\n",
       "      <td>NaN</td>\n",
       "      <td>NaN</td>\n",
       "      <td>NaN</td>\n",
       "      <td>NaN</td>\n",
       "      <td>NaN</td>\n",
       "      <td>NaN</td>\n",
       "      <td>NaN</td>\n",
       "      <td>NaN</td>\n",
       "      <td>NaN</td>\n",
       "      <td>NaN</td>\n",
       "      <td>NaN</td>\n",
       "      <td>NaN</td>\n",
       "      <td>NaN</td>\n",
       "      <td>NaN</td>\n",
       "      <td>NaN</td>\n",
       "      <td>NaN</td>\n",
       "      <td>NaN</td>\n",
       "      <td>NaN</td>\n",
       "      <td>NaN</td>\n",
       "      <td>NaN</td>\n",
       "      <td>NaN</td>\n",
       "      <td>NaN</td>\n",
       "      <td>...</td>\n",
       "      <td>NaN</td>\n",
       "      <td>NaN</td>\n",
       "      <td>NaN</td>\n",
       "      <td>NaN</td>\n",
       "      <td>NaN</td>\n",
       "      <td>NaN</td>\n",
       "      <td>NaN</td>\n",
       "      <td>NaN</td>\n",
       "      <td>NaN</td>\n",
       "      <td>NaN</td>\n",
       "      <td>NaN</td>\n",
       "      <td>NaN</td>\n",
       "      <td>NaN</td>\n",
       "      <td>NaN</td>\n",
       "      <td>NaN</td>\n",
       "      <td>NaN</td>\n",
       "      <td>NaN</td>\n",
       "      <td>NaN</td>\n",
       "      <td>NaN</td>\n",
       "      <td>NaN</td>\n",
       "      <td>NaN</td>\n",
       "      <td>NaN</td>\n",
       "      <td>NaN</td>\n",
       "      <td>NaN</td>\n",
       "      <td>NaN</td>\n",
       "      <td>NaN</td>\n",
       "      <td>NaN</td>\n",
       "      <td>NaN</td>\n",
       "      <td>NaN</td>\n",
       "      <td>NaN</td>\n",
       "      <td>NaN</td>\n",
       "      <td>NaN</td>\n",
       "      <td>NaN</td>\n",
       "      <td>NaN</td>\n",
       "      <td>NaN</td>\n",
       "      <td>NaN</td>\n",
       "      <td>NaN</td>\n",
       "      <td>NaN</td>\n",
       "      <td>NaN</td>\n",
       "      <td>NaN</td>\n",
       "      <td>NaN</td>\n",
       "      <td>NaN</td>\n",
       "      <td>NaN</td>\n",
       "      <td>NaN</td>\n",
       "      <td>NaN</td>\n",
       "      <td>NaN</td>\n",
       "      <td>NaN</td>\n",
       "      <td>NaN</td>\n",
       "      <td>NaN</td>\n",
       "      <td>NaN</td>\n",
       "    </tr>\n",
       "  </tbody>\n",
       "</table>\n",
       "<p>1 rows × 1442 columns</p>\n",
       "</div>"
      ],
      "text/plain": [
       "title   (500) Days of Summer (2009)  10 Things I Hate About You (1999)  101 Dalmatians (1996)  101 Dalmatians (One Hundred and One Dalmatians) (1961)  12 Angry Men (1957)  13th Warrior, The (1999)  1984 (Nineteen Eighty-Four) (1984)  2 Fast 2 Furious (Fast and the Furious 2, The) (2003)  20,000 Leagues Under the Sea (1954)  2001: A Space Odyssey (1968)  2010: The Year We Make Contact (1984)  21 Grams (2003)  25th Hour (2002)  28 Days (2000)  28 Days Later (2002)  28 Weeks Later (2007)  \\\n",
       "userId                                                                                                                                                                                                                                                                                                                                                                                                                                                                                                      \n",
       "50017                           NaN                                4.5                    4.0                                                NaN                       NaN                       NaN                                 NaN                                                NaN                                      NaN                           NaN                                    NaN              NaN               NaN             NaN                   NaN                    NaN   \n",
       "\n",
       "title   300 (2007)  39 Steps, The (1935)  3:10 to Yuma (2007)  40-Year-Old Virgin, The (2005)  48 Hrs. (1982)  50 First Dates (2004)  6th Day, The (2000)  8 Mile (2002)  8MM (1999)  A.I. Artificial Intelligence (2001)  AVP: Alien vs. Predator (2004)  About Schmidt (2002)  About a Boy (2002)  Absolute Power (1997)  Abyss, The (1989)  Ace Ventura: Pet Detective (1994)  Ace Ventura: When Nature Calls (1995)  Adaptation (2002)  Addams Family Values (1993)  Addams Family, The (1991)  \\\n",
       "userId                                                                                                                                                                                                                                                                                                                                                                                                                                                                                               \n",
       "50017          NaN                   NaN                  NaN                             NaN             NaN                    NaN                  NaN            NaN         NaN                                  NaN                             NaN                   NaN                 NaN                    NaN                NaN                                NaN                                    NaN                NaN                          NaN                        NaN   \n",
       "\n",
       "title   Adventures in Babysitting (1987)  Adventures of Buckaroo Banzai Across the 8th Dimension, The (1984)  Adventures of Priscilla, Queen of the Desert, The (1994)  Adventures of Robin Hood, The (1938)  African Queen, The (1951)  Age of Innocence, The (1993)  Air Force One (1997)  Airheads (1994)  Airplane II: The Sequel (1982)  Airplane! (1980)  Akira (1988)  Aladdin (1992)  Alice in Wonderland (1951)  Alien (1979)  ...  Welcome to the Dollhouse (1995)  West Side Story (1961)  \\\n",
       "userId                                                                                                                                                                                                                                                                                                                                                                                                                                  ...                                                            \n",
       "50017                                NaN                                                NaN                                                                 NaN                                          NaN                        NaN                           NaN                   NaN              NaN                             NaN               NaN           NaN             NaN                         NaN           NaN  ...                              NaN                     NaN   \n",
       "\n",
       "title   Westworld (1973)  Whale Rider (2002)  What About Bob? (1991)  What Dreams May Come (1998)  What Lies Beneath (2000)  What Women Want (2000)  What's Eating Gilbert Grape (1993)  What's Love Got to Do with It? (1993)  When Harry Met Sally... (1989)  When We Were Kings (1996)  When a Man Loves a Woman (1994)  While You Were Sleeping (1995)  White Men Can't Jump (1992)  White Squall (1996)  Who Framed Roger Rabbit? (1988)  Whole Nine Yards, The (2000)  Wild Things (1998)  \\\n",
       "userId                                                                                                                                                                                                                                                                                                                                                                                                                                                                                            \n",
       "50017                NaN                 NaN                     NaN                          NaN                       NaN                     NaN                                 NaN                                    NaN                             NaN                        NaN                              NaN                             NaN                          NaN                  NaN                              NaN                           NaN                 NaN   \n",
       "\n",
       "title   Wild Wild West (1999)  William Shakespeare's A Midsummer Night's Dream (1999)  William Shakespeare's Romeo + Juliet (1996)  Willow (1988)  Willy Wonka & the Chocolate Factory (1971)  Wings of Desire (Himmel über Berlin, Der) (1987)  Winnie the Pooh and the Blustery Day (1968)  Witness (1985)  Wizard of Oz, The (1939)  Wolf (1994)  Wonder Boys (2000)  Working Girl (1988)  World Is Not Enough, The (1999)  Wrestler, The (2008)  Wyatt Earp (1994)  X-Files: Fight the Future, The (1998)  \\\n",
       "userId                                                                                                                                                                                                                                                                                                                                                                                                                                                                                                          \n",
       "50017                     NaN                                                NaN                                               NaN            NaN                                         NaN                                               NaN                                          NaN             NaN                       NaN          NaN                 NaN                  NaN                              NaN                   NaN                NaN                                    NaN   \n",
       "\n",
       "title   X-Men (2000)  X-Men: First Class (2011)  X-Men: The Last Stand (2006)  X2: X-Men United (2003)  Yellow Submarine (1968)  Yojimbo (1961)  You've Got Mail (1998)  Young Frankenstein (1974)  Young Guns (1988)  Zodiac (2007)  Zombieland (2009)  Zoolander (2001)  eXistenZ (1999)  xXx (2002)  ¡Three Amigos! (1986)  \n",
       "userId                                                                                                                                                                                                                                                                                                                         \n",
       "50017            NaN                        NaN                           NaN                      NaN                      NaN             NaN                     NaN                        NaN                NaN            NaN                NaN               NaN              NaN         NaN                    NaN  \n",
       "\n",
       "[1 rows x 1442 columns]"
      ]
     },
     "execution_count": 35,
     "metadata": {},
     "output_type": "execute_result"
    }
   ],
   "source": [
    "random_user_df = user_movie_df[user_movie_df.index == random_user]\n",
    "\n",
    "random_user_df.head()"
   ]
  },
  {
   "cell_type": "markdown",
   "id": "88152964",
   "metadata": {
    "papermill": {
     "duration": 0.013052,
     "end_time": "2023-07-25T15:57:40.078331",
     "exception": false,
     "start_time": "2023-07-25T15:57:40.065279",
     "status": "completed"
    },
    "tags": []
   },
   "source": [
    "<code style=\"background:gainsboro;color:black;font-size:140%\"> Passo 3: </code> \n",
    "<p style=\"font-size: 100%\"><i><b>Atribua os filmes avaliados pelo usuário selecionado a uma lista chamada \"movies_watched\"<b></i></p>"
   ]
  },
  {
   "cell_type": "code",
   "execution_count": 36,
   "id": "076e41f5",
   "metadata": {
    "execution": {
     "iopub.execute_input": "2023-07-25T15:57:40.107480Z",
     "iopub.status.busy": "2023-07-25T15:57:40.107047Z",
     "iopub.status.idle": "2023-07-25T15:57:40.118147Z",
     "shell.execute_reply": "2023-07-25T15:57:40.116801Z"
    },
    "papermill": {
     "duration": 0.02858,
     "end_time": "2023-07-25T15:57:40.120434",
     "exception": false,
     "start_time": "2023-07-25T15:57:40.091854",
     "status": "completed"
    },
    "tags": []
   },
   "outputs": [
    {
     "data": {
      "text/plain": [
       "['10 Things I Hate About You (1999)',\n",
       " '101 Dalmatians (1996)',\n",
       " 'Inception (2010)',\n",
       " 'King Kong (1933)',\n",
       " 'Muppet Treasure Island (1996)',\n",
       " 'Running Man, The (1987)',\n",
       " 'Simple Plan, A (1998)',\n",
       " 'Twelve Monkeys (a.k.a. 12 Monkeys) (1995)']"
      ]
     },
     "execution_count": 36,
     "metadata": {},
     "output_type": "execute_result"
    }
   ],
   "source": [
    "movies_watched = random_user_df.columns[random_user_df.notna().any()].tolist()\n",
    "\n",
    "movies_watched"
   ]
  },
  {
   "cell_type": "markdown",
   "id": "573285e1",
   "metadata": {
    "papermill": {
     "duration": 0.013464,
     "end_time": "2023-07-25T15:57:40.147935",
     "exception": false,
     "start_time": "2023-07-25T15:57:40.134471",
     "status": "completed"
    },
    "tags": []
   },
   "source": [
    "<code style=\"background:gainsboro;color:black;font-size:190%\"> Tarefa 3: acessando dados e Ids de outros usuários que avaliaram os mesmos filmes </code>"
   ]
  },
  {
   "cell_type": "markdown",
   "id": "1825f4ce",
   "metadata": {
    "papermill": {
     "duration": 0.013376,
     "end_time": "2023-07-25T15:57:40.175095",
     "exception": false,
     "start_time": "2023-07-25T15:57:40.161719",
     "status": "completed"
    },
    "tags": []
   },
   "source": [
    "<code style=\"background:gainsboro;color:black;font-size:140%\"> Passo 1: </code> \n",
    "<p style=\"font-size: 100%\"><i><b> Selecione as colunas dos filmes assistidos pelo usuário provenientes do \"user_movie_df\" e crie um novo dataframe chamado \"movies_watched_df\" <b></i></p>"
   ]
  },
  {
   "cell_type": "code",
   "execution_count": 37,
   "id": "ececca34",
   "metadata": {
    "execution": {
     "iopub.execute_input": "2023-07-25T15:57:40.205689Z",
     "iopub.status.busy": "2023-07-25T15:57:40.204230Z",
     "iopub.status.idle": "2023-07-25T15:57:40.247662Z",
     "shell.execute_reply": "2023-07-25T15:57:40.246196Z"
    },
    "papermill": {
     "duration": 0.061358,
     "end_time": "2023-07-25T15:57:40.250305",
     "exception": false,
     "start_time": "2023-07-25T15:57:40.188947",
     "status": "completed"
    },
    "tags": []
   },
   "outputs": [
    {
     "data": {
      "text/html": [
       "<div>\n",
       "<style scoped>\n",
       "    .dataframe tbody tr th:only-of-type {\n",
       "        vertical-align: middle;\n",
       "    }\n",
       "\n",
       "    .dataframe tbody tr th {\n",
       "        vertical-align: top;\n",
       "    }\n",
       "\n",
       "    .dataframe thead th {\n",
       "        text-align: right;\n",
       "    }\n",
       "</style>\n",
       "<table border=\"1\" class=\"dataframe\">\n",
       "  <thead>\n",
       "    <tr style=\"text-align: right;\">\n",
       "      <th>title</th>\n",
       "      <th>10 Things I Hate About You (1999)</th>\n",
       "      <th>101 Dalmatians (1996)</th>\n",
       "      <th>Inception (2010)</th>\n",
       "      <th>King Kong (1933)</th>\n",
       "      <th>Muppet Treasure Island (1996)</th>\n",
       "      <th>Running Man, The (1987)</th>\n",
       "      <th>Simple Plan, A (1998)</th>\n",
       "      <th>Twelve Monkeys (a.k.a. 12 Monkeys) (1995)</th>\n",
       "    </tr>\n",
       "    <tr>\n",
       "      <th>userId</th>\n",
       "      <th></th>\n",
       "      <th></th>\n",
       "      <th></th>\n",
       "      <th></th>\n",
       "      <th></th>\n",
       "      <th></th>\n",
       "      <th></th>\n",
       "      <th></th>\n",
       "    </tr>\n",
       "  </thead>\n",
       "  <tbody>\n",
       "    <tr>\n",
       "      <th>1</th>\n",
       "      <td>NaN</td>\n",
       "      <td>NaN</td>\n",
       "      <td>NaN</td>\n",
       "      <td>NaN</td>\n",
       "      <td>NaN</td>\n",
       "      <td>NaN</td>\n",
       "      <td>NaN</td>\n",
       "      <td>NaN</td>\n",
       "    </tr>\n",
       "    <tr>\n",
       "      <th>2</th>\n",
       "      <td>NaN</td>\n",
       "      <td>NaN</td>\n",
       "      <td>NaN</td>\n",
       "      <td>NaN</td>\n",
       "      <td>NaN</td>\n",
       "      <td>NaN</td>\n",
       "      <td>NaN</td>\n",
       "      <td>NaN</td>\n",
       "    </tr>\n",
       "    <tr>\n",
       "      <th>3</th>\n",
       "      <td>NaN</td>\n",
       "      <td>NaN</td>\n",
       "      <td>NaN</td>\n",
       "      <td>NaN</td>\n",
       "      <td>NaN</td>\n",
       "      <td>NaN</td>\n",
       "      <td>NaN</td>\n",
       "      <td>NaN</td>\n",
       "    </tr>\n",
       "    <tr>\n",
       "      <th>4</th>\n",
       "      <td>NaN</td>\n",
       "      <td>NaN</td>\n",
       "      <td>NaN</td>\n",
       "      <td>NaN</td>\n",
       "      <td>NaN</td>\n",
       "      <td>NaN</td>\n",
       "      <td>NaN</td>\n",
       "      <td>NaN</td>\n",
       "    </tr>\n",
       "    <tr>\n",
       "      <th>5</th>\n",
       "      <td>NaN</td>\n",
       "      <td>NaN</td>\n",
       "      <td>NaN</td>\n",
       "      <td>NaN</td>\n",
       "      <td>NaN</td>\n",
       "      <td>NaN</td>\n",
       "      <td>NaN</td>\n",
       "      <td>NaN</td>\n",
       "    </tr>\n",
       "  </tbody>\n",
       "</table>\n",
       "</div>"
      ],
      "text/plain": [
       "title   10 Things I Hate About You (1999)  101 Dalmatians (1996)  Inception (2010)  King Kong (1933)  Muppet Treasure Island (1996)  Running Man, The (1987)  Simple Plan, A (1998)  Twelve Monkeys (a.k.a. 12 Monkeys) (1995)\n",
       "userId                                                                                                                                                                                                                        \n",
       "1                                     NaN                    NaN               NaN               NaN                            NaN                      NaN                    NaN                                        NaN\n",
       "2                                     NaN                    NaN               NaN               NaN                            NaN                      NaN                    NaN                                        NaN\n",
       "3                                     NaN                    NaN               NaN               NaN                            NaN                      NaN                    NaN                                        NaN\n",
       "4                                     NaN                    NaN               NaN               NaN                            NaN                      NaN                    NaN                                        NaN\n",
       "5                                     NaN                    NaN               NaN               NaN                            NaN                      NaN                    NaN                                        NaN"
      ]
     },
     "execution_count": 37,
     "metadata": {},
     "output_type": "execute_result"
    }
   ],
   "source": [
    "movies_watched_df = user_movie_df[movies_watched]\n",
    "\n",
    "movies_watched_df.head()"
   ]
  },
  {
   "cell_type": "markdown",
   "id": "4923719e",
   "metadata": {
    "papermill": {
     "duration": 0.0136,
     "end_time": "2023-07-25T15:57:40.278254",
     "exception": false,
     "start_time": "2023-07-25T15:57:40.264654",
     "status": "completed"
    },
    "tags": []
   },
   "source": [
    "<code style=\"background:gainsboro;color:black;font-size:140%\"> Passo 2: </code> \n",
    "<p style=\"font-size: 100%\"><i><b>Crie um novo dataframe chamado \"user_movie_count\", que contém informações sobre quantos filmes cada usuário assistiu. <b></i></p>"
   ]
  },
  {
   "cell_type": "code",
   "execution_count": 38,
   "id": "762140f2",
   "metadata": {
    "execution": {
     "iopub.execute_input": "2023-07-25T15:57:40.309349Z",
     "iopub.status.busy": "2023-07-25T15:57:40.308932Z",
     "iopub.status.idle": "2023-07-25T15:57:40.339430Z",
     "shell.execute_reply": "2023-07-25T15:57:40.338166Z"
    },
    "papermill": {
     "duration": 0.04976,
     "end_time": "2023-07-25T15:57:40.341947",
     "exception": false,
     "start_time": "2023-07-25T15:57:40.292187",
     "status": "completed"
    },
    "tags": []
   },
   "outputs": [
    {
     "data": {
      "text/html": [
       "<div>\n",
       "<style scoped>\n",
       "    .dataframe tbody tr th:only-of-type {\n",
       "        vertical-align: middle;\n",
       "    }\n",
       "\n",
       "    .dataframe tbody tr th {\n",
       "        vertical-align: top;\n",
       "    }\n",
       "\n",
       "    .dataframe thead th {\n",
       "        text-align: right;\n",
       "    }\n",
       "</style>\n",
       "<table border=\"1\" class=\"dataframe\">\n",
       "  <thead>\n",
       "    <tr style=\"text-align: right;\">\n",
       "      <th></th>\n",
       "      <th>userId</th>\n",
       "      <th>movie_count</th>\n",
       "    </tr>\n",
       "  </thead>\n",
       "  <tbody>\n",
       "    <tr>\n",
       "      <th>0</th>\n",
       "      <td>1</td>\n",
       "      <td>0</td>\n",
       "    </tr>\n",
       "    <tr>\n",
       "      <th>1</th>\n",
       "      <td>2</td>\n",
       "      <td>0</td>\n",
       "    </tr>\n",
       "    <tr>\n",
       "      <th>2</th>\n",
       "      <td>3</td>\n",
       "      <td>0</td>\n",
       "    </tr>\n",
       "    <tr>\n",
       "      <th>3</th>\n",
       "      <td>4</td>\n",
       "      <td>0</td>\n",
       "    </tr>\n",
       "    <tr>\n",
       "      <th>4</th>\n",
       "      <td>5</td>\n",
       "      <td>0</td>\n",
       "    </tr>\n",
       "  </tbody>\n",
       "</table>\n",
       "</div>"
      ],
      "text/plain": [
       "   userId  movie_count\n",
       "0       1            0\n",
       "1       2            0\n",
       "2       3            0\n",
       "3       4            0\n",
       "4       5            0"
      ]
     },
     "execution_count": 38,
     "metadata": {},
     "output_type": "execute_result"
    }
   ],
   "source": [
    "user_movie_count = movies_watched_df.T.notnull().sum()\n",
    "\n",
    "user_movie_count = user_movie_count.reset_index()\n",
    "user_movie_count.columns = [\"userId\", \"movie_count\"]\n",
    "\n",
    "user_movie_count.head()"
   ]
  },
  {
   "cell_type": "markdown",
   "id": "19a8343b",
   "metadata": {
    "papermill": {
     "duration": 0.015464,
     "end_time": "2023-07-25T15:57:40.372216",
     "exception": false,
     "start_time": "2023-07-25T15:57:40.356752",
     "status": "completed"
    },
    "tags": []
   },
   "source": [
    "<code style=\"background:gainsboro;color:black;font-size:140%\"> Passo 3: </code> \n",
    "<p style=\"font-size: 100%\"><i><b>Crie uma lista chamada \"users_same_movies\" composta dos IDs dos usuários que avaliaram 60% ou mais dos filmes avaliados pelo usuário selecionado<b></i></p>"
   ]
  },
  {
   "cell_type": "code",
   "execution_count": 39,
   "id": "5abc4abb",
   "metadata": {
    "execution": {
     "iopub.execute_input": "2023-07-25T15:57:40.403462Z",
     "iopub.status.busy": "2023-07-25T15:57:40.403017Z",
     "iopub.status.idle": "2023-07-25T15:57:40.414149Z",
     "shell.execute_reply": "2023-07-25T15:57:40.413225Z"
    },
    "papermill": {
     "duration": 0.029401,
     "end_time": "2023-07-25T15:57:40.416273",
     "exception": false,
     "start_time": "2023-07-25T15:57:40.386872",
     "status": "completed"
    },
    "tags": []
   },
   "outputs": [
    {
     "data": {
      "text/plain": [
       "45674    45709\n",
       "49964    49999\n",
       "49982    50017\n",
       "62753    62812\n",
       "74079    74142\n",
       "Name: userId, dtype: int64"
      ]
     },
     "execution_count": 39,
     "metadata": {},
     "output_type": "execute_result"
    }
   ],
   "source": [
    "percentage = len(movies_watched) * 60 / 100\n",
    "\n",
    "users_same_movies = user_movie_count[user_movie_count[\"movie_count\"] > percentage][\"userId\"]\n",
    "\n",
    "users_same_movies.head()"
   ]
  },
  {
   "cell_type": "markdown",
   "id": "b7eeec69",
   "metadata": {
    "papermill": {
     "duration": 0.014145,
     "end_time": "2023-07-25T15:57:40.444793",
     "exception": false,
     "start_time": "2023-07-25T15:57:40.430648",
     "status": "completed"
    },
    "tags": []
   },
   "source": [
    "<code style=\"background:gainsboro;color:black;font-size:190%\">Tarefa 4: Determinando os usuários a serem sugeridos e os usuários mais similares </code>"
   ]
  },
  {
   "cell_type": "markdown",
   "id": "e75887d0",
   "metadata": {
    "papermill": {
     "duration": 0.01396,
     "end_time": "2023-07-25T15:57:40.473174",
     "exception": false,
     "start_time": "2023-07-25T15:57:40.459214",
     "status": "completed"
    },
    "tags": []
   },
   "source": [
    "<code style=\"background:gainsboro;color:black;font-size:140%\"> Passo 1: </code> \n",
    "<p style=\"font-size: 100%\"><i><b>Filtrar o dataframe \"movies_watched_df\" para achar os ids dos usuários na lista \"user_same _movies\" que são similares ao usuário selecionado <b></i></p>"
   ]
  },
  {
   "cell_type": "code",
   "execution_count": 40,
   "id": "10758e2e",
   "metadata": {
    "execution": {
     "iopub.execute_input": "2023-07-25T15:57:40.503865Z",
     "iopub.status.busy": "2023-07-25T15:57:40.503447Z",
     "iopub.status.idle": "2023-07-25T15:57:40.530731Z",
     "shell.execute_reply": "2023-07-25T15:57:40.529601Z"
    },
    "papermill": {
     "duration": 0.045575,
     "end_time": "2023-07-25T15:57:40.533164",
     "exception": false,
     "start_time": "2023-07-25T15:57:40.487589",
     "status": "completed"
    },
    "tags": []
   },
   "outputs": [
    {
     "data": {
      "text/html": [
       "<div>\n",
       "<style scoped>\n",
       "    .dataframe tbody tr th:only-of-type {\n",
       "        vertical-align: middle;\n",
       "    }\n",
       "\n",
       "    .dataframe tbody tr th {\n",
       "        vertical-align: top;\n",
       "    }\n",
       "\n",
       "    .dataframe thead th {\n",
       "        text-align: right;\n",
       "    }\n",
       "</style>\n",
       "<table border=\"1\" class=\"dataframe\">\n",
       "  <thead>\n",
       "    <tr style=\"text-align: right;\">\n",
       "      <th>title</th>\n",
       "      <th>10 Things I Hate About You (1999)</th>\n",
       "      <th>101 Dalmatians (1996)</th>\n",
       "      <th>Inception (2010)</th>\n",
       "      <th>King Kong (1933)</th>\n",
       "      <th>Muppet Treasure Island (1996)</th>\n",
       "      <th>Running Man, The (1987)</th>\n",
       "      <th>Simple Plan, A (1998)</th>\n",
       "      <th>Twelve Monkeys (a.k.a. 12 Monkeys) (1995)</th>\n",
       "    </tr>\n",
       "    <tr>\n",
       "      <th>userId</th>\n",
       "      <th></th>\n",
       "      <th></th>\n",
       "      <th></th>\n",
       "      <th></th>\n",
       "      <th></th>\n",
       "      <th></th>\n",
       "      <th></th>\n",
       "      <th></th>\n",
       "    </tr>\n",
       "  </thead>\n",
       "  <tbody>\n",
       "    <tr>\n",
       "      <th>45709</th>\n",
       "      <td>2.0</td>\n",
       "      <td>1.5</td>\n",
       "      <td>3.0</td>\n",
       "      <td>4.0</td>\n",
       "      <td>3.0</td>\n",
       "      <td>NaN</td>\n",
       "      <td>NaN</td>\n",
       "      <td>NaN</td>\n",
       "    </tr>\n",
       "    <tr>\n",
       "      <th>49999</th>\n",
       "      <td>4.0</td>\n",
       "      <td>NaN</td>\n",
       "      <td>NaN</td>\n",
       "      <td>5.0</td>\n",
       "      <td>NaN</td>\n",
       "      <td>3.0</td>\n",
       "      <td>3.0</td>\n",
       "      <td>3.0</td>\n",
       "    </tr>\n",
       "    <tr>\n",
       "      <th>50017</th>\n",
       "      <td>4.5</td>\n",
       "      <td>4.0</td>\n",
       "      <td>4.0</td>\n",
       "      <td>3.5</td>\n",
       "      <td>2.5</td>\n",
       "      <td>4.0</td>\n",
       "      <td>3.5</td>\n",
       "      <td>5.0</td>\n",
       "    </tr>\n",
       "    <tr>\n",
       "      <th>62812</th>\n",
       "      <td>3.5</td>\n",
       "      <td>3.5</td>\n",
       "      <td>3.5</td>\n",
       "      <td>3.0</td>\n",
       "      <td>2.0</td>\n",
       "      <td>3.5</td>\n",
       "      <td>NaN</td>\n",
       "      <td>NaN</td>\n",
       "    </tr>\n",
       "    <tr>\n",
       "      <th>74142</th>\n",
       "      <td>2.0</td>\n",
       "      <td>1.0</td>\n",
       "      <td>5.0</td>\n",
       "      <td>NaN</td>\n",
       "      <td>1.0</td>\n",
       "      <td>NaN</td>\n",
       "      <td>2.5</td>\n",
       "      <td>NaN</td>\n",
       "    </tr>\n",
       "  </tbody>\n",
       "</table>\n",
       "</div>"
      ],
      "text/plain": [
       "title   10 Things I Hate About You (1999)  101 Dalmatians (1996)  Inception (2010)  King Kong (1933)  Muppet Treasure Island (1996)  Running Man, The (1987)  Simple Plan, A (1998)  Twelve Monkeys (a.k.a. 12 Monkeys) (1995)\n",
       "userId                                                                                                                                                                                                                        \n",
       "45709                                 2.0                    1.5               3.0               4.0                            3.0                      NaN                    NaN                                        NaN\n",
       "49999                                 4.0                    NaN               NaN               5.0                            NaN                      3.0                    3.0                                        3.0\n",
       "50017                                 4.5                    4.0               4.0               3.5                            2.5                      4.0                    3.5                                        5.0\n",
       "62812                                 3.5                    3.5               3.5               3.0                            2.0                      3.5                    NaN                                        NaN\n",
       "74142                                 2.0                    1.0               5.0               NaN                            1.0                      NaN                    2.5                                        NaN"
      ]
     },
     "execution_count": 40,
     "metadata": {},
     "output_type": "execute_result"
    }
   ],
   "source": [
    "final_df = pd.concat([movies_watched_df[movies_watched_df.index.isin(users_same_movies)],\n",
    "                      random_user_df[movies_watched]])\n",
    "\n",
    "final_df.head()"
   ]
  },
  {
   "cell_type": "markdown",
   "id": "830c7ab8",
   "metadata": {
    "papermill": {
     "duration": 0.015702,
     "end_time": "2023-07-25T15:57:40.564767",
     "exception": false,
     "start_time": "2023-07-25T15:57:40.549065",
     "status": "completed"
    },
    "tags": []
   },
   "source": [
    "<code style=\"background:gainsboro;color:black;font-size:140%\"> Passo 2: </code> \n",
    "<p style=\"font-size: 100%\"><i><b> Criar o novo dataframe \"corr_df\" onde as correlações dos usuários uns com os outros pode ser encontradas<b></i></p>"
   ]
  },
  {
   "cell_type": "code",
   "execution_count": 41,
   "id": "10e5b370",
   "metadata": {
    "execution": {
     "iopub.execute_input": "2023-07-25T15:57:40.597586Z",
     "iopub.status.busy": "2023-07-25T15:57:40.597155Z",
     "iopub.status.idle": "2023-07-25T15:57:50.725070Z",
     "shell.execute_reply": "2023-07-25T15:57:50.723682Z"
    },
    "papermill": {
     "duration": 10.14821,
     "end_time": "2023-07-25T15:57:50.728193",
     "exception": false,
     "start_time": "2023-07-25T15:57:40.579983",
     "status": "completed"
    },
    "tags": []
   },
   "outputs": [
    {
     "data": {
      "text/html": [
       "<div>\n",
       "<style scoped>\n",
       "    .dataframe tbody tr th:only-of-type {\n",
       "        vertical-align: middle;\n",
       "    }\n",
       "\n",
       "    .dataframe tbody tr th {\n",
       "        vertical-align: top;\n",
       "    }\n",
       "\n",
       "    .dataframe thead th {\n",
       "        text-align: right;\n",
       "    }\n",
       "</style>\n",
       "<table border=\"1\" class=\"dataframe\">\n",
       "  <thead>\n",
       "    <tr style=\"text-align: right;\">\n",
       "      <th></th>\n",
       "      <th>user_id_1</th>\n",
       "      <th>user_id_2</th>\n",
       "      <th>corr</th>\n",
       "    </tr>\n",
       "  </thead>\n",
       "  <tbody>\n",
       "    <tr>\n",
       "      <th>0</th>\n",
       "      <td>74142</td>\n",
       "      <td>49999</td>\n",
       "      <td>-1.000000</td>\n",
       "    </tr>\n",
       "    <tr>\n",
       "      <th>1</th>\n",
       "      <td>62812</td>\n",
       "      <td>49999</td>\n",
       "      <td>-0.866025</td>\n",
       "    </tr>\n",
       "    <tr>\n",
       "      <th>2</th>\n",
       "      <td>49999</td>\n",
       "      <td>116189</td>\n",
       "      <td>-0.500000</td>\n",
       "    </tr>\n",
       "    <tr>\n",
       "      <th>3</th>\n",
       "      <td>45709</td>\n",
       "      <td>50017</td>\n",
       "      <td>-0.490470</td>\n",
       "    </tr>\n",
       "    <tr>\n",
       "      <th>4</th>\n",
       "      <td>62812</td>\n",
       "      <td>45709</td>\n",
       "      <td>-0.432789</td>\n",
       "    </tr>\n",
       "  </tbody>\n",
       "</table>\n",
       "</div>"
      ],
      "text/plain": [
       "   user_id_1  user_id_2      corr\n",
       "0      74142      49999 -1.000000\n",
       "1      62812      49999 -0.866025\n",
       "2      49999     116189 -0.500000\n",
       "3      45709      50017 -0.490470\n",
       "4      62812      45709 -0.432789"
      ]
     },
     "execution_count": 41,
     "metadata": {},
     "output_type": "execute_result"
    }
   ],
   "source": [
    "corr_df = final_df.T.corr().unstack().sort_values().drop_duplicates()\n",
    "\n",
    "corr_df = pd.DataFrame(corr_df, columns=[\"corr\"])\n",
    "corr_df.index.names = ['user_id_1', 'user_id_2']\n",
    "corr_df = corr_df.reset_index()\n",
    "\n",
    "corr_df.head()"
   ]
  },
  {
   "cell_type": "markdown",
   "id": "914ffd54",
   "metadata": {
    "papermill": {
     "duration": 0.015028,
     "end_time": "2023-07-25T15:57:50.767401",
     "exception": false,
     "start_time": "2023-07-25T15:57:50.752373",
     "status": "completed"
    },
    "tags": []
   },
   "source": [
    "<code style=\"background:gainsboro;color:black;font-size:140%\"> Passo 3: </code> \n",
    "<p style=\"font-size: 100%\"><i><b>Crie um novo dataframe chamado \"top_users\" filtrando os usuários com uma alta correlação (acima de 0.65) com o usuário selecionado.<b></i></p>"
   ]
  },
  {
   "cell_type": "code",
   "execution_count": 42,
   "id": "6076d537",
   "metadata": {
    "execution": {
     "iopub.execute_input": "2023-07-25T15:57:50.803265Z",
     "iopub.status.busy": "2023-07-25T15:57:50.802709Z",
     "iopub.status.idle": "2023-07-25T15:57:50.931358Z",
     "shell.execute_reply": "2023-07-25T15:57:50.930215Z"
    },
    "papermill": {
     "duration": 0.149106,
     "end_time": "2023-07-25T15:57:50.934371",
     "exception": false,
     "start_time": "2023-07-25T15:57:50.785265",
     "status": "completed"
    },
    "tags": []
   },
   "outputs": [
    {
     "data": {
      "text/html": [
       "<div>\n",
       "<style scoped>\n",
       "    .dataframe tbody tr th:only-of-type {\n",
       "        vertical-align: middle;\n",
       "    }\n",
       "\n",
       "    .dataframe tbody tr th {\n",
       "        vertical-align: top;\n",
       "    }\n",
       "\n",
       "    .dataframe thead th {\n",
       "        text-align: right;\n",
       "    }\n",
       "</style>\n",
       "<table border=\"1\" class=\"dataframe\">\n",
       "  <thead>\n",
       "    <tr style=\"text-align: right;\">\n",
       "      <th></th>\n",
       "      <th>user_id_2</th>\n",
       "      <th>corr</th>\n",
       "    </tr>\n",
       "  </thead>\n",
       "  <tbody>\n",
       "    <tr>\n",
       "      <th>0</th>\n",
       "      <td>62812</td>\n",
       "      <td>0.958468</td>\n",
       "    </tr>\n",
       "  </tbody>\n",
       "</table>\n",
       "</div>"
      ],
      "text/plain": [
       "   user_id_2      corr\n",
       "0      62812  0.958468"
      ]
     },
     "execution_count": 42,
     "metadata": {},
     "output_type": "execute_result"
    }
   ],
   "source": [
    "top_users = corr_df[(corr_df[\"user_id_1\"] == random_user) & (corr_df[\"corr\"] >= 0.65)][[\"user_id_2\", \"corr\"]].reset_index(drop=True)\n",
    "\n",
    "top_users = top_users.sort_values(by=\"corr\", ascending=False)\n",
    "\n",
    "top_users.head()"
   ]
  },
  {
   "cell_type": "markdown",
   "id": "ade7d637",
   "metadata": {
    "papermill": {
     "duration": 0.02036,
     "end_time": "2023-07-25T15:57:50.979027",
     "exception": false,
     "start_time": "2023-07-25T15:57:50.958667",
     "status": "completed"
    },
    "tags": []
   },
   "source": [
    "<code style=\"background:gainsboro;color:black;font-size:140%\"> Passo 4: </code> \n",
    "<p style=\"font-size: 100%\"><i><b>Aplique um \"inner join\" com o dataframe \"top_users\" e o dataset \"rating\" (que seria seria a operação \"inner merge\" na biblioteca Pandas)   <b></i></p>"
   ]
  },
  {
   "cell_type": "code",
   "execution_count": 43,
   "id": "97661534",
   "metadata": {
    "execution": {
     "iopub.execute_input": "2023-07-25T15:57:51.013672Z",
     "iopub.status.busy": "2023-07-25T15:57:51.013297Z",
     "iopub.status.idle": "2023-07-25T15:57:52.539202Z",
     "shell.execute_reply": "2023-07-25T15:57:52.537864Z"
    },
    "papermill": {
     "duration": 1.547465,
     "end_time": "2023-07-25T15:57:52.541840",
     "exception": false,
     "start_time": "2023-07-25T15:57:50.994375",
     "status": "completed"
    },
    "tags": []
   },
   "outputs": [
    {
     "data": {
      "text/html": [
       "<div>\n",
       "<style scoped>\n",
       "    .dataframe tbody tr th:only-of-type {\n",
       "        vertical-align: middle;\n",
       "    }\n",
       "\n",
       "    .dataframe tbody tr th {\n",
       "        vertical-align: top;\n",
       "    }\n",
       "\n",
       "    .dataframe thead th {\n",
       "        text-align: right;\n",
       "    }\n",
       "</style>\n",
       "<table border=\"1\" class=\"dataframe\">\n",
       "  <thead>\n",
       "    <tr style=\"text-align: right;\">\n",
       "      <th></th>\n",
       "      <th>userId</th>\n",
       "      <th>corr</th>\n",
       "      <th>movieId</th>\n",
       "      <th>rating</th>\n",
       "    </tr>\n",
       "  </thead>\n",
       "  <tbody>\n",
       "    <tr>\n",
       "      <th>0</th>\n",
       "      <td>62812</td>\n",
       "      <td>0.958468</td>\n",
       "      <td>3</td>\n",
       "      <td>3.5</td>\n",
       "    </tr>\n",
       "    <tr>\n",
       "      <th>1</th>\n",
       "      <td>62812</td>\n",
       "      <td>0.958468</td>\n",
       "      <td>4</td>\n",
       "      <td>2.0</td>\n",
       "    </tr>\n",
       "    <tr>\n",
       "      <th>2</th>\n",
       "      <td>62812</td>\n",
       "      <td>0.958468</td>\n",
       "      <td>17</td>\n",
       "      <td>4.0</td>\n",
       "    </tr>\n",
       "    <tr>\n",
       "      <th>3</th>\n",
       "      <td>62812</td>\n",
       "      <td>0.958468</td>\n",
       "      <td>25</td>\n",
       "      <td>0.5</td>\n",
       "    </tr>\n",
       "    <tr>\n",
       "      <th>4</th>\n",
       "      <td>62812</td>\n",
       "      <td>0.958468</td>\n",
       "      <td>38</td>\n",
       "      <td>3.0</td>\n",
       "    </tr>\n",
       "  </tbody>\n",
       "</table>\n",
       "</div>"
      ],
      "text/plain": [
       "   userId      corr  movieId  rating\n",
       "0   62812  0.958468        3     3.5\n",
       "1   62812  0.958468        4     2.0\n",
       "2   62812  0.958468       17     4.0\n",
       "3   62812  0.958468       25     0.5\n",
       "4   62812  0.958468       38     3.0"
      ]
     },
     "execution_count": 43,
     "metadata": {},
     "output_type": "execute_result"
    }
   ],
   "source": [
    "top_users.rename(columns={\"user_id_2\": \"userId\"}, inplace=True)\n",
    "\n",
    "top_users_ratings = top_users.merge(rating[[\"userId\", \"movieId\", \"rating\"]], how='inner')\n",
    "\n",
    "top_users_ratings.head()"
   ]
  },
  {
   "cell_type": "code",
   "execution_count": 44,
   "id": "7c9c768a",
   "metadata": {
    "execution": {
     "iopub.execute_input": "2023-07-25T15:57:52.575154Z",
     "iopub.status.busy": "2023-07-25T15:57:52.574683Z",
     "iopub.status.idle": "2023-07-25T15:57:52.595652Z",
     "shell.execute_reply": "2023-07-25T15:57:52.594220Z"
    },
    "papermill": {
     "duration": 0.041762,
     "end_time": "2023-07-25T15:57:52.599053",
     "exception": false,
     "start_time": "2023-07-25T15:57:52.557291",
     "status": "completed"
    },
    "tags": []
   },
   "outputs": [
    {
     "data": {
      "text/html": [
       "<div>\n",
       "<style scoped>\n",
       "    .dataframe tbody tr th:only-of-type {\n",
       "        vertical-align: middle;\n",
       "    }\n",
       "\n",
       "    .dataframe tbody tr th {\n",
       "        vertical-align: top;\n",
       "    }\n",
       "\n",
       "    .dataframe thead th {\n",
       "        text-align: right;\n",
       "    }\n",
       "</style>\n",
       "<table border=\"1\" class=\"dataframe\">\n",
       "  <thead>\n",
       "    <tr style=\"text-align: right;\">\n",
       "      <th></th>\n",
       "      <th>userId</th>\n",
       "      <th>corr</th>\n",
       "      <th>movieId</th>\n",
       "      <th>rating</th>\n",
       "    </tr>\n",
       "  </thead>\n",
       "  <tbody>\n",
       "    <tr>\n",
       "      <th>0</th>\n",
       "      <td>62812</td>\n",
       "      <td>0.958468</td>\n",
       "      <td>3</td>\n",
       "      <td>3.5</td>\n",
       "    </tr>\n",
       "    <tr>\n",
       "      <th>1</th>\n",
       "      <td>62812</td>\n",
       "      <td>0.958468</td>\n",
       "      <td>4</td>\n",
       "      <td>2.0</td>\n",
       "    </tr>\n",
       "    <tr>\n",
       "      <th>2</th>\n",
       "      <td>62812</td>\n",
       "      <td>0.958468</td>\n",
       "      <td>17</td>\n",
       "      <td>4.0</td>\n",
       "    </tr>\n",
       "    <tr>\n",
       "      <th>3</th>\n",
       "      <td>62812</td>\n",
       "      <td>0.958468</td>\n",
       "      <td>25</td>\n",
       "      <td>0.5</td>\n",
       "    </tr>\n",
       "    <tr>\n",
       "      <th>4</th>\n",
       "      <td>62812</td>\n",
       "      <td>0.958468</td>\n",
       "      <td>38</td>\n",
       "      <td>3.0</td>\n",
       "    </tr>\n",
       "  </tbody>\n",
       "</table>\n",
       "</div>"
      ],
      "text/plain": [
       "   userId      corr  movieId  rating\n",
       "0   62812  0.958468        3     3.5\n",
       "1   62812  0.958468        4     2.0\n",
       "2   62812  0.958468       17     4.0\n",
       "3   62812  0.958468       25     0.5\n",
       "4   62812  0.958468       38     3.0"
      ]
     },
     "execution_count": 44,
     "metadata": {},
     "output_type": "execute_result"
    }
   ],
   "source": [
    "# removendo o random_user do dataset;\n",
    "\n",
    "top_users_ratings = top_users_ratings[top_users_ratings[\"userId\"] != random_user]\n",
    "\n",
    "top_users_ratings.head()"
   ]
  },
  {
   "cell_type": "markdown",
   "id": "999f0cd5",
   "metadata": {
    "papermill": {
     "duration": 0.015648,
     "end_time": "2023-07-25T15:57:52.631081",
     "exception": false,
     "start_time": "2023-07-25T15:57:52.615433",
     "status": "completed"
    },
    "tags": []
   },
   "source": [
    "<code style=\"background:gainsboro;color:black;font-size:190%\"> Tarefa 5:Calculando a média ponderada da nota de recomendação e ficando com 5 filmes.  </code>"
   ]
  },
  {
   "cell_type": "markdown",
   "id": "e187a816",
   "metadata": {
    "papermill": {
     "duration": 0.015456,
     "end_time": "2023-07-25T15:57:52.662223",
     "exception": false,
     "start_time": "2023-07-25T15:57:52.646767",
     "status": "completed"
    },
    "tags": []
   },
   "source": [
    "<code style=\"background:gainsboro;color:black;font-size:140%\"> Passo 1: </code> \n",
    "<p style=\"font-size: 100%\"><i><b> Crie uma variável chamada \"weighted_rating\", que o produto da \"corr\" e do \"rating\" de cada usuário<b></i></p>"
   ]
  },
  {
   "cell_type": "code",
   "execution_count": 45,
   "id": "0a4726c8",
   "metadata": {
    "execution": {
     "iopub.execute_input": "2023-07-25T15:57:52.695505Z",
     "iopub.status.busy": "2023-07-25T15:57:52.695086Z",
     "iopub.status.idle": "2023-07-25T15:57:52.710593Z",
     "shell.execute_reply": "2023-07-25T15:57:52.709324Z"
    },
    "papermill": {
     "duration": 0.034701,
     "end_time": "2023-07-25T15:57:52.712732",
     "exception": false,
     "start_time": "2023-07-25T15:57:52.678031",
     "status": "completed"
    },
    "tags": []
   },
   "outputs": [
    {
     "data": {
      "text/html": [
       "<div>\n",
       "<style scoped>\n",
       "    .dataframe tbody tr th:only-of-type {\n",
       "        vertical-align: middle;\n",
       "    }\n",
       "\n",
       "    .dataframe tbody tr th {\n",
       "        vertical-align: top;\n",
       "    }\n",
       "\n",
       "    .dataframe thead th {\n",
       "        text-align: right;\n",
       "    }\n",
       "</style>\n",
       "<table border=\"1\" class=\"dataframe\">\n",
       "  <thead>\n",
       "    <tr style=\"text-align: right;\">\n",
       "      <th></th>\n",
       "      <th>userId</th>\n",
       "      <th>corr</th>\n",
       "      <th>movieId</th>\n",
       "      <th>rating</th>\n",
       "      <th>weighted_rating</th>\n",
       "    </tr>\n",
       "  </thead>\n",
       "  <tbody>\n",
       "    <tr>\n",
       "      <th>0</th>\n",
       "      <td>62812</td>\n",
       "      <td>0.958468</td>\n",
       "      <td>3</td>\n",
       "      <td>3.5</td>\n",
       "      <td>3.354637</td>\n",
       "    </tr>\n",
       "    <tr>\n",
       "      <th>1</th>\n",
       "      <td>62812</td>\n",
       "      <td>0.958468</td>\n",
       "      <td>4</td>\n",
       "      <td>2.0</td>\n",
       "      <td>1.916935</td>\n",
       "    </tr>\n",
       "    <tr>\n",
       "      <th>2</th>\n",
       "      <td>62812</td>\n",
       "      <td>0.958468</td>\n",
       "      <td>17</td>\n",
       "      <td>4.0</td>\n",
       "      <td>3.833871</td>\n",
       "    </tr>\n",
       "    <tr>\n",
       "      <th>3</th>\n",
       "      <td>62812</td>\n",
       "      <td>0.958468</td>\n",
       "      <td>25</td>\n",
       "      <td>0.5</td>\n",
       "      <td>0.479234</td>\n",
       "    </tr>\n",
       "    <tr>\n",
       "      <th>4</th>\n",
       "      <td>62812</td>\n",
       "      <td>0.958468</td>\n",
       "      <td>38</td>\n",
       "      <td>3.0</td>\n",
       "      <td>2.875403</td>\n",
       "    </tr>\n",
       "  </tbody>\n",
       "</table>\n",
       "</div>"
      ],
      "text/plain": [
       "   userId      corr  movieId  rating  weighted_rating\n",
       "0   62812  0.958468        3     3.5         3.354637\n",
       "1   62812  0.958468        4     2.0         1.916935\n",
       "2   62812  0.958468       17     4.0         3.833871\n",
       "3   62812  0.958468       25     0.5         0.479234\n",
       "4   62812  0.958468       38     3.0         2.875403"
      ]
     },
     "execution_count": 45,
     "metadata": {},
     "output_type": "execute_result"
    }
   ],
   "source": [
    "top_users_ratings[\"weighted_rating\"] = top_users_ratings[\"corr\"] * top_users_ratings[\"rating\"]\n",
    "\n",
    "top_users_ratings.head()"
   ]
  },
  {
   "cell_type": "markdown",
   "id": "51faa022",
   "metadata": {
    "papermill": {
     "duration": 0.015676,
     "end_time": "2023-07-25T15:57:52.744684",
     "exception": false,
     "start_time": "2023-07-25T15:57:52.729008",
     "status": "completed"
    },
    "tags": []
   },
   "source": [
    "<code style=\"background:gainsboro;color:black;font-size:140%\"> Passo 2: </code> \n",
    "<p style=\"font-size: 100%\"><i><b>Crie um novo dataframe chamado \"recommendation_df\" que contém o id do filme e o valor médio das avaliações ponderadas de todos os usuários para cada filme <b></i></p>"
   ]
  },
  {
   "cell_type": "code",
   "execution_count": 46,
   "id": "81a0d889",
   "metadata": {
    "execution": {
     "iopub.execute_input": "2023-07-25T15:57:52.778122Z",
     "iopub.status.busy": "2023-07-25T15:57:52.777672Z",
     "iopub.status.idle": "2023-07-25T15:57:52.794552Z",
     "shell.execute_reply": "2023-07-25T15:57:52.793001Z"
    },
    "papermill": {
     "duration": 0.036626,
     "end_time": "2023-07-25T15:57:52.797187",
     "exception": false,
     "start_time": "2023-07-25T15:57:52.760561",
     "status": "completed"
    },
    "tags": []
   },
   "outputs": [
    {
     "data": {
      "text/html": [
       "<div>\n",
       "<style scoped>\n",
       "    .dataframe tbody tr th:only-of-type {\n",
       "        vertical-align: middle;\n",
       "    }\n",
       "\n",
       "    .dataframe tbody tr th {\n",
       "        vertical-align: top;\n",
       "    }\n",
       "\n",
       "    .dataframe thead th {\n",
       "        text-align: right;\n",
       "    }\n",
       "</style>\n",
       "<table border=\"1\" class=\"dataframe\">\n",
       "  <thead>\n",
       "    <tr style=\"text-align: right;\">\n",
       "      <th></th>\n",
       "      <th>weighted_rating</th>\n",
       "    </tr>\n",
       "    <tr>\n",
       "      <th>movieId</th>\n",
       "      <th></th>\n",
       "    </tr>\n",
       "  </thead>\n",
       "  <tbody>\n",
       "    <tr>\n",
       "      <th>3</th>\n",
       "      <td>3.354637</td>\n",
       "    </tr>\n",
       "    <tr>\n",
       "      <th>4</th>\n",
       "      <td>1.916935</td>\n",
       "    </tr>\n",
       "    <tr>\n",
       "      <th>17</th>\n",
       "      <td>3.833871</td>\n",
       "    </tr>\n",
       "    <tr>\n",
       "      <th>25</th>\n",
       "      <td>0.479234</td>\n",
       "    </tr>\n",
       "    <tr>\n",
       "      <th>38</th>\n",
       "      <td>2.875403</td>\n",
       "    </tr>\n",
       "  </tbody>\n",
       "</table>\n",
       "</div>"
      ],
      "text/plain": [
       "         weighted_rating\n",
       "movieId                 \n",
       "3               3.354637\n",
       "4               1.916935\n",
       "17              3.833871\n",
       "25              0.479234\n",
       "38              2.875403"
      ]
     },
     "execution_count": 46,
     "metadata": {},
     "output_type": "execute_result"
    }
   ],
   "source": [
    "recommendation_df = top_users_ratings.groupby('movieId').agg({\"weighted_rating\": \"mean\"})\n",
    "\n",
    "recommendation_df.head()"
   ]
  },
  {
   "cell_type": "markdown",
   "id": "72bab8fd",
   "metadata": {
    "papermill": {
     "duration": 0.016295,
     "end_time": "2023-07-25T15:57:52.829759",
     "exception": false,
     "start_time": "2023-07-25T15:57:52.813464",
     "status": "completed"
    },
    "tags": []
   },
   "source": [
    "<code style=\"background:gainsboro;color:black;font-size:140%\"> Passo 3: </code> \n",
    "<p style=\"font-size: 100%\"><i><b>Selecione filmes com uma avaliação ponderada maior que 3.5 em \"recommendation_df\" e as ordene pela avaliação ponderada<b></i></p>"
   ]
  },
  {
   "cell_type": "code",
   "execution_count": 47,
   "id": "7a3a56ba",
   "metadata": {
    "execution": {
     "iopub.execute_input": "2023-07-25T15:57:52.864283Z",
     "iopub.status.busy": "2023-07-25T15:57:52.863827Z",
     "iopub.status.idle": "2023-07-25T15:57:52.877637Z",
     "shell.execute_reply": "2023-07-25T15:57:52.876695Z"
    },
    "papermill": {
     "duration": 0.033795,
     "end_time": "2023-07-25T15:57:52.879684",
     "exception": false,
     "start_time": "2023-07-25T15:57:52.845889",
     "status": "completed"
    },
    "tags": []
   },
   "outputs": [
    {
     "data": {
      "text/html": [
       "<div>\n",
       "<style scoped>\n",
       "    .dataframe tbody tr th:only-of-type {\n",
       "        vertical-align: middle;\n",
       "    }\n",
       "\n",
       "    .dataframe tbody tr th {\n",
       "        vertical-align: top;\n",
       "    }\n",
       "\n",
       "    .dataframe thead th {\n",
       "        text-align: right;\n",
       "    }\n",
       "</style>\n",
       "<table border=\"1\" class=\"dataframe\">\n",
       "  <thead>\n",
       "    <tr style=\"text-align: right;\">\n",
       "      <th></th>\n",
       "      <th>movieId</th>\n",
       "      <th>weighted_rating</th>\n",
       "    </tr>\n",
       "  </thead>\n",
       "  <tbody>\n",
       "    <tr>\n",
       "      <th>0</th>\n",
       "      <td>2340</td>\n",
       "      <td>4.792338</td>\n",
       "    </tr>\n",
       "    <tr>\n",
       "      <th>1</th>\n",
       "      <td>2891</td>\n",
       "      <td>4.792338</td>\n",
       "    </tr>\n",
       "    <tr>\n",
       "      <th>2</th>\n",
       "      <td>32469</td>\n",
       "      <td>4.792338</td>\n",
       "    </tr>\n",
       "    <tr>\n",
       "      <th>3</th>\n",
       "      <td>30822</td>\n",
       "      <td>4.792338</td>\n",
       "    </tr>\n",
       "    <tr>\n",
       "      <th>4</th>\n",
       "      <td>2252</td>\n",
       "      <td>4.792338</td>\n",
       "    </tr>\n",
       "  </tbody>\n",
       "</table>\n",
       "</div>"
      ],
      "text/plain": [
       "   movieId  weighted_rating\n",
       "0     2340         4.792338\n",
       "1     2891         4.792338\n",
       "2    32469         4.792338\n",
       "3    30822         4.792338\n",
       "4     2252         4.792338"
      ]
     },
     "execution_count": 47,
     "metadata": {},
     "output_type": "execute_result"
    }
   ],
   "source": [
    "recommendation_df = recommendation_df[recommendation_df[\"weighted_rating\"] > 3.5]\n",
    "\n",
    "recommendation_df = recommendation_df.sort_values(\"weighted_rating\", ascending=False)\n",
    "\n",
    "recommendation_df = recommendation_df.reset_index()\n",
    "\n",
    "recommendation_df.head()"
   ]
  },
  {
   "cell_type": "markdown",
   "id": "ac9df6d5",
   "metadata": {
    "papermill": {
     "duration": 0.01602,
     "end_time": "2023-07-25T15:57:52.911818",
     "exception": false,
     "start_time": "2023-07-25T15:57:52.895798",
     "status": "completed"
    },
    "tags": []
   },
   "source": [
    "<code style=\"background:gainsboro;color:black;font-size:140%\"> Passo 4: </code> \n",
    "<p style=\"font-size: 100%\"><i><b>Traga os nomes dos filmes do dataset \"movie\" e selecione os 5 primeiros filmes para recomendar<b></i></p>"
   ]
  },
  {
   "cell_type": "code",
   "execution_count": 48,
   "id": "244c5fc5",
   "metadata": {
    "execution": {
     "iopub.execute_input": "2023-07-25T15:57:52.946086Z",
     "iopub.status.busy": "2023-07-25T15:57:52.945604Z",
     "iopub.status.idle": "2023-07-25T15:57:52.969340Z",
     "shell.execute_reply": "2023-07-25T15:57:52.968111Z"
    },
    "papermill": {
     "duration": 0.043693,
     "end_time": "2023-07-25T15:57:52.971521",
     "exception": false,
     "start_time": "2023-07-25T15:57:52.927828",
     "status": "completed"
    },
    "tags": []
   },
   "outputs": [
    {
     "data": {
      "text/plain": [
       "0     Meet Joe Black (1998)\n",
       "1       Happy, Texas (1999)\n",
       "2    We're No Angels (1955)\n",
       "3    In Good Company (2004)\n",
       "4               Hero (1992)\n",
       "Name: title, dtype: object"
      ]
     },
     "execution_count": 48,
     "metadata": {},
     "output_type": "execute_result"
    }
   ],
   "source": [
    "recommendation_df.merge(movie[[\"movieId\", \"title\"]])[\"title\"][:5]"
   ]
  },
  {
   "cell_type": "markdown",
   "id": "955f01b7",
   "metadata": {
    "papermill": {
     "duration": 0.020315,
     "end_time": "2023-07-25T15:57:53.008606",
     "exception": false,
     "start_time": "2023-07-25T15:57:52.988291",
     "status": "completed"
    },
    "tags": []
   },
   "source": [
    "<h2> <code style=\"background:gainsboro;color:black;font-size:130%\"> Recomendação baseada em items </code> </h2>\n"
   ]
  },
  {
   "cell_type": "markdown",
   "id": "c3b94d73",
   "metadata": {
    "papermill": {
     "duration": 0.017316,
     "end_time": "2023-07-25T15:57:53.043863",
     "exception": false,
     "start_time": "2023-07-25T15:57:53.026547",
     "status": "completed"
    },
    "tags": []
   },
   "source": [
    "<code style=\"background:gainsboro;color:black;font-size:190%\"> Tarefa 1: Faça uma recomendação baseada em items baseada no filme mais bem avaliado com a maior nota (dando preferência ao mais recente) </code>"
   ]
  },
  {
   "cell_type": "markdown",
   "id": "f5579a7a",
   "metadata": {
    "papermill": {
     "duration": 0.016164,
     "end_time": "2023-07-25T15:57:53.119826",
     "exception": false,
     "start_time": "2023-07-25T15:57:53.103662",
     "status": "completed"
    },
    "tags": []
   },
   "source": [
    "<code style=\"background:gainsboro;color:black;font-size:140%\"> Passo 1: </code> \n",
    "<p style=\"font-size: 100%\"><i><b>Ler os datasets \"movie\" e \"rating\"<b></i></p>"
   ]
  },
  {
   "cell_type": "code",
   "execution_count": 49,
   "id": "9b2bcf40",
   "metadata": {
    "execution": {
     "iopub.execute_input": "2023-07-25T15:57:53.155028Z",
     "iopub.status.busy": "2023-07-25T15:57:53.154539Z",
     "iopub.status.idle": "2023-07-25T15:57:53.209485Z",
     "shell.execute_reply": "2023-07-25T15:57:53.207874Z"
    },
    "papermill": {
     "duration": 0.075989,
     "end_time": "2023-07-25T15:57:53.212292",
     "exception": false,
     "start_time": "2023-07-25T15:57:53.136303",
     "status": "completed"
    },
    "tags": []
   },
   "outputs": [
    {
     "data": {
      "text/html": [
       "<div>\n",
       "<style scoped>\n",
       "    .dataframe tbody tr th:only-of-type {\n",
       "        vertical-align: middle;\n",
       "    }\n",
       "\n",
       "    .dataframe tbody tr th {\n",
       "        vertical-align: top;\n",
       "    }\n",
       "\n",
       "    .dataframe thead th {\n",
       "        text-align: right;\n",
       "    }\n",
       "</style>\n",
       "<table border=\"1\" class=\"dataframe\">\n",
       "  <thead>\n",
       "    <tr style=\"text-align: right;\">\n",
       "      <th></th>\n",
       "      <th>movieId</th>\n",
       "      <th>title</th>\n",
       "      <th>genres</th>\n",
       "    </tr>\n",
       "  </thead>\n",
       "  <tbody>\n",
       "    <tr>\n",
       "      <th>0</th>\n",
       "      <td>1</td>\n",
       "      <td>Toy Story (1995)</td>\n",
       "      <td>Adventure|Animation|Children|Comedy|Fantasy</td>\n",
       "    </tr>\n",
       "    <tr>\n",
       "      <th>1</th>\n",
       "      <td>2</td>\n",
       "      <td>Jumanji (1995)</td>\n",
       "      <td>Adventure|Children|Fantasy</td>\n",
       "    </tr>\n",
       "    <tr>\n",
       "      <th>2</th>\n",
       "      <td>3</td>\n",
       "      <td>Grumpier Old Men (1995)</td>\n",
       "      <td>Comedy|Romance</td>\n",
       "    </tr>\n",
       "    <tr>\n",
       "      <th>3</th>\n",
       "      <td>4</td>\n",
       "      <td>Waiting to Exhale (1995)</td>\n",
       "      <td>Comedy|Drama|Romance</td>\n",
       "    </tr>\n",
       "    <tr>\n",
       "      <th>4</th>\n",
       "      <td>5</td>\n",
       "      <td>Father of the Bride Part II (1995)</td>\n",
       "      <td>Comedy</td>\n",
       "    </tr>\n",
       "  </tbody>\n",
       "</table>\n",
       "</div>"
      ],
      "text/plain": [
       "   movieId                               title                                       genres\n",
       "0        1                    Toy Story (1995)  Adventure|Animation|Children|Comedy|Fantasy\n",
       "1        2                      Jumanji (1995)                   Adventure|Children|Fantasy\n",
       "2        3             Grumpier Old Men (1995)                               Comedy|Romance\n",
       "3        4            Waiting to Exhale (1995)                         Comedy|Drama|Romance\n",
       "4        5  Father of the Bride Part II (1995)                                       Comedy"
      ]
     },
     "execution_count": 49,
     "metadata": {},
     "output_type": "execute_result"
    }
   ],
   "source": [
    "movie = pd.read_csv(\"movie.csv\")\n",
    "movie.head()"
   ]
  },
  {
   "cell_type": "code",
   "execution_count": 50,
   "id": "0e93fbbe",
   "metadata": {
    "execution": {
     "iopub.execute_input": "2023-07-25T15:57:53.250241Z",
     "iopub.status.busy": "2023-07-25T15:57:53.249734Z",
     "iopub.status.idle": "2023-07-25T15:58:12.222749Z",
     "shell.execute_reply": "2023-07-25T15:58:12.221175Z"
    },
    "papermill": {
     "duration": 18.995955,
     "end_time": "2023-07-25T15:58:12.225557",
     "exception": false,
     "start_time": "2023-07-25T15:57:53.229602",
     "status": "completed"
    },
    "tags": []
   },
   "outputs": [
    {
     "data": {
      "text/html": [
       "<div>\n",
       "<style scoped>\n",
       "    .dataframe tbody tr th:only-of-type {\n",
       "        vertical-align: middle;\n",
       "    }\n",
       "\n",
       "    .dataframe tbody tr th {\n",
       "        vertical-align: top;\n",
       "    }\n",
       "\n",
       "    .dataframe thead th {\n",
       "        text-align: right;\n",
       "    }\n",
       "</style>\n",
       "<table border=\"1\" class=\"dataframe\">\n",
       "  <thead>\n",
       "    <tr style=\"text-align: right;\">\n",
       "      <th></th>\n",
       "      <th>userId</th>\n",
       "      <th>movieId</th>\n",
       "      <th>rating</th>\n",
       "      <th>timestamp</th>\n",
       "    </tr>\n",
       "  </thead>\n",
       "  <tbody>\n",
       "    <tr>\n",
       "      <th>0</th>\n",
       "      <td>1</td>\n",
       "      <td>50</td>\n",
       "      <td>3.5</td>\n",
       "      <td>2005-04-02 23:29:40</td>\n",
       "    </tr>\n",
       "    <tr>\n",
       "      <th>1</th>\n",
       "      <td>1</td>\n",
       "      <td>112</td>\n",
       "      <td>3.5</td>\n",
       "      <td>2004-09-10 03:09:00</td>\n",
       "    </tr>\n",
       "    <tr>\n",
       "      <th>2</th>\n",
       "      <td>1</td>\n",
       "      <td>151</td>\n",
       "      <td>4.0</td>\n",
       "      <td>2004-09-10 03:08:54</td>\n",
       "    </tr>\n",
       "    <tr>\n",
       "      <th>3</th>\n",
       "      <td>1</td>\n",
       "      <td>293</td>\n",
       "      <td>4.0</td>\n",
       "      <td>2005-04-02 23:31:43</td>\n",
       "    </tr>\n",
       "    <tr>\n",
       "      <th>4</th>\n",
       "      <td>1</td>\n",
       "      <td>296</td>\n",
       "      <td>4.0</td>\n",
       "      <td>2005-04-02 23:32:47</td>\n",
       "    </tr>\n",
       "  </tbody>\n",
       "</table>\n",
       "</div>"
      ],
      "text/plain": [
       "   userId  movieId  rating            timestamp\n",
       "0       1       50     3.5  2005-04-02 23:29:40\n",
       "1       1      112     3.5  2004-09-10 03:09:00\n",
       "2       1      151     4.0  2004-09-10 03:08:54\n",
       "3       1      293     4.0  2005-04-02 23:31:43\n",
       "4       1      296     4.0  2005-04-02 23:32:47"
      ]
     },
     "execution_count": 50,
     "metadata": {},
     "output_type": "execute_result"
    }
   ],
   "source": [
    "rating = pd.read_csv(\"ratingm.csv\")\n",
    "rating.head()"
   ]
  },
  {
   "cell_type": "markdown",
   "id": "c132ae3a",
   "metadata": {
    "papermill": {
     "duration": 0.017383,
     "end_time": "2023-07-25T15:58:12.260298",
     "exception": false,
     "start_time": "2023-07-25T15:58:12.242915",
     "status": "completed"
    },
    "tags": []
   },
   "source": [
    "<code style=\"background:gainsboro;color:black;font-size:140%\"> Passo 2: </code> \n",
    "<p style=\"font-size: 100%\"><i><b> Pegue o id do filme com a maior nota dos filmes avaliados pelo usuário selecionado<b></i></p>"
   ]
  },
  {
   "cell_type": "code",
   "execution_count": 51,
   "id": "3f728ea2",
   "metadata": {
    "execution": {
     "iopub.execute_input": "2023-07-25T15:58:12.296342Z",
     "iopub.status.busy": "2023-07-25T15:58:12.295867Z",
     "iopub.status.idle": "2023-07-25T15:58:12.473316Z",
     "shell.execute_reply": "2023-07-25T15:58:12.472113Z"
    },
    "papermill": {
     "duration": 0.198586,
     "end_time": "2023-07-25T15:58:12.475974",
     "exception": false,
     "start_time": "2023-07-25T15:58:12.277388",
     "status": "completed"
    },
    "tags": []
   },
   "outputs": [
    {
     "data": {
      "text/plain": [
       "32"
      ]
     },
     "execution_count": 51,
     "metadata": {},
     "output_type": "execute_result"
    }
   ],
   "source": [
    "most_recent_movie_id = rating[(rating[\"userId\"] == random_user) ].\\\n",
    "                            sort_values(\"rating\", ascending=False).head(1)\n",
    "most_recent_movie_id = most_recent_movie_id[\"movieId\"][0:1].values[0]\n",
    "\n",
    "most_recent_movie_id"
   ]
  },
  {
   "cell_type": "markdown",
   "id": "5fbb18c4",
   "metadata": {
    "papermill": {
     "duration": 0.016938,
     "end_time": "2023-07-25T15:58:12.510889",
     "exception": false,
     "start_time": "2023-07-25T15:58:12.493951",
     "status": "completed"
    },
    "tags": []
   },
   "source": [
    "<code style=\"background:gainsboro;color:black;font-size:140%\"> Passo 3: </code> \n",
    "<p style=\"font-size: 100%\"><i><b>Filtre o dataframe \"user_movie_df\" criado na seção \"recomendação baseada em usuários\" de acordo com o id do filme selecionado<b></i></p>"
   ]
  },
  {
   "cell_type": "code",
   "execution_count": 52,
   "id": "36a1005c",
   "metadata": {
    "execution": {
     "iopub.execute_input": "2023-07-25T15:58:12.546768Z",
     "iopub.status.busy": "2023-07-25T15:58:12.546352Z",
     "iopub.status.idle": "2023-07-25T15:58:12.557653Z",
     "shell.execute_reply": "2023-07-25T15:58:12.556522Z"
    },
    "papermill": {
     "duration": 0.032199,
     "end_time": "2023-07-25T15:58:12.559910",
     "exception": false,
     "start_time": "2023-07-25T15:58:12.527711",
     "status": "completed"
    },
    "tags": []
   },
   "outputs": [
    {
     "data": {
      "text/plain": [
       "userId\n",
       "1        NaN\n",
       "2        NaN\n",
       "3        NaN\n",
       "4        NaN\n",
       "5        NaN\n",
       "          ..\n",
       "138489   NaN\n",
       "138490   NaN\n",
       "138491   NaN\n",
       "138492   NaN\n",
       "138493   NaN\n",
       "Name: Twelve Monkeys (a.k.a. 12 Monkeys) (1995), Length: 138359, dtype: float64"
      ]
     },
     "execution_count": 52,
     "metadata": {},
     "output_type": "execute_result"
    }
   ],
   "source": [
    "most_recent_movie_df = user_movie_df[movie[movie[\"movieId\"] == most_recent_movie_id][\"title\"].values[0]]\n",
    "most_recent_movie_df\n"
   ]
  },
  {
   "cell_type": "markdown",
   "id": "3212c29b",
   "metadata": {
    "papermill": {
     "duration": 0.016595,
     "end_time": "2023-07-25T15:58:12.593501",
     "exception": false,
     "start_time": "2023-07-25T15:58:12.576906",
     "status": "completed"
    },
    "tags": []
   },
   "source": [
    "<code style=\"background:gainsboro;color:black;font-size:140%\"> Passo 4: </code> \n",
    "<p style=\"font-size: 100%\"><i><b>Usando o dataframe filtrado, ache a correlação do filme selecionado com os outros filems e os ranqueie.<b></i></p>"
   ]
  },
  {
   "cell_type": "code",
   "execution_count": 53,
   "id": "98d13786",
   "metadata": {
    "execution": {
     "iopub.execute_input": "2023-07-25T15:58:12.630911Z",
     "iopub.status.busy": "2023-07-25T15:58:12.630395Z",
     "iopub.status.idle": "2023-07-25T15:58:15.054125Z",
     "shell.execute_reply": "2023-07-25T15:58:15.052878Z"
    },
    "papermill": {
     "duration": 2.446103,
     "end_time": "2023-07-25T15:58:15.056680",
     "exception": false,
     "start_time": "2023-07-25T15:58:12.610577",
     "status": "completed"
    },
    "tags": []
   },
   "outputs": [
    {
     "data": {
      "text/plain": [
       "title\n",
       "Twelve Monkeys (a.k.a. 12 Monkeys) (1995)                1.000000\n",
       "Capote (2005)                                            0.368191\n",
       "Starsky & Hutch (2004)                                   0.353079\n",
       "Jacob's Ladder (1990)                                    0.346808\n",
       "Identity (2003)                                          0.343627\n",
       "                                                           ...   \n",
       "George of the Jungle (1997)                             -0.102905\n",
       "Richie Rich (1994)                                      -0.104233\n",
       "Jingle All the Way (1996)                               -0.112330\n",
       "2 Fast 2 Furious (Fast and the Furious 2, The) (2003)   -0.114321\n",
       "Police Academy 2: Their First Assignment (1985)         -0.206665\n",
       "Length: 1442, dtype: float64"
      ]
     },
     "execution_count": 53,
     "metadata": {},
     "output_type": "execute_result"
    }
   ],
   "source": [
    "item_based_recommendation = user_movie_df.corrwith(most_recent_movie_df).sort_values(ascending=False)\n",
    "item_based_recommendation"
   ]
  },
  {
   "cell_type": "markdown",
   "id": "1bcac274",
   "metadata": {
    "papermill": {
     "duration": 0.017978,
     "end_time": "2023-07-25T15:58:15.091635",
     "exception": false,
     "start_time": "2023-07-25T15:58:15.073657",
     "status": "completed"
    },
    "tags": []
   },
   "source": [
    "<code style=\"background:gainsboro;color:black;font-size:140%\"> Passo 5: </code> \n",
    "<p style=\"font-size: 100%\"><i><b> Mostre os 30 primeiros filmes como sugestões exceto o filme selecionado em si<b></i></p>"
   ]
  },
  {
   "cell_type": "code",
   "execution_count": 54,
   "id": "d43ddbf2",
   "metadata": {
    "execution": {
     "iopub.execute_input": "2023-07-25T15:58:15.129297Z",
     "iopub.status.busy": "2023-07-25T15:58:15.128825Z",
     "iopub.status.idle": "2023-07-25T15:58:15.138123Z",
     "shell.execute_reply": "2023-07-25T15:58:15.136832Z"
    },
    "papermill": {
     "duration": 0.03169,
     "end_time": "2023-07-25T15:58:15.140373",
     "exception": false,
     "start_time": "2023-07-25T15:58:15.108683",
     "status": "completed"
    },
    "tags": []
   },
   "outputs": [
    {
     "name": "stdout",
     "output_type": "stream",
     "text": [
      "['Capote (2005)', 'Starsky & Hutch (2004)', \"Jacob's Ladder (1990)\", 'Identity (2003)', 'Bananas (1971)', 'Lucky Number Slevin (2006)', 'Secret of NIMH, The (1982)', 'Matchstick Men (2003)', 'Mississippi Burning (1988)', 'Professional, The (Le professionnel) (1981)', 'Machinist, The (Maquinista, El) (2004)', 'Of Mice and Men (1992)', \"Amores Perros (Love's a Bitch) (2000)\", 'Seven (a.k.a. Se7en) (1995)', 'Superbad (2007)', 'Limey, The (1999)', 'Doors, The (1991)', 'City of Lost Children, The (Cité des enfants perdus, La) (1995)', 'Fisher King, The (1991)', 'Eternal Sunshine of the Spotless Mind (2004)', 'Rebecca (1940)', 'Little Big Man (1970)', \"Things to Do in Denver When You're Dead (1995)\", 'To Catch a Thief (1955)', 'Farewell My Concubine (Ba wang bie ji) (1993)', \"Charlotte's Web (1973)\", 'Jungle Book, The (1967)', 'Strangers on a Train (1951)', 'Red Violin, The (Violon rouge, Le) (1998)', 'Gattaca (1997)']\n",
      "30\n"
     ]
    }
   ],
   "source": [
    "filmesRecomendados = list(item_based_recommendation[1:31].index)\n",
    "print(filmesRecomendados)\n",
    "print(len(filmesRecomendados))"
   ]
  },
  {
   "cell_type": "markdown",
   "id": "8513a579",
   "metadata": {},
   "source": [
    " <code style=\"background:gainsboro;color:black;font-size:140%\"> Métricas </code> \n"
   ]
  },
  {
   "cell_type": "code",
   "execution_count": 57,
   "id": "34638db7",
   "metadata": {},
   "outputs": [
    {
     "name": "stdout",
     "output_type": "stream",
     "text": [
      "['10 Things I Hate About You (1999)', '101 Dalmatians (1996)', 'Inception (2010)', 'King Kong (1933)', 'Muppet Treasure Island (1996)', 'Running Man, The (1987)', 'Simple Plan, A (1998)', 'Twelve Monkeys (a.k.a. 12 Monkeys) (1995)']\n",
      "8\n",
      "Id do usuário: 50017 número de filmes vistos: 8 filmes em comum com suas recomendações : 0\n"
     ]
    }
   ],
   "source": [
    "\n",
    "\n",
    "for col in random_user_df.columns:\n",
    "    \n",
    "    if np.isnan(random_user_df[col][random_user]):\n",
    "      \n",
    "        random_user_df.drop(col, axis=1, inplace=True)\n",
    "\n",
    "\n",
    "filmesVistos = list(random_user_df.iloc[0].index)\n",
    "print(filmesVistos)\n",
    "print(len(filmesVistos)) \n",
    "\n",
    "intersecao = list(set(filmesRecomendados) & set(filmesVistos))\n",
    "\n",
    "resultados =  \"Id do usuário: \" + str(random_user) + \" \" + \"número de filmes vistos: \"+ str(len(filmesVistos))  + \" filmes em comum com suas recomendações : \" + str(len(intersecao))\n",
    "\n",
    "output_file = \"métricas_.txt\"\n",
    "string = resultados\n",
    "\n",
    "\n",
    "with open(output_file, \"a\") as f:\n",
    "    \n",
    "    f.write(string + \"\\n\")\n",
    "\n",
    "print(resultados)\n",
    "\n",
    "\n"
   ]
  }
 ],
 "metadata": {
  "kernelspec": {
   "display_name": "Python 3",
   "language": "python",
   "name": "python3"
  },
  "language_info": {
   "codemirror_mode": {
    "name": "ipython",
    "version": 3
   },
   "file_extension": ".py",
   "mimetype": "text/x-python",
   "name": "python",
   "nbconvert_exporter": "python",
   "pygments_lexer": "ipython3",
   "version": "3.10.7"
  },
  "papermill": {
   "default_parameters": {},
   "duration": 127.834985,
   "end_time": "2023-07-25T15:58:17.781001",
   "environment_variables": {},
   "exception": null,
   "input_path": "__notebook__.ipynb",
   "output_path": "__notebook__.ipynb",
   "parameters": {},
   "start_time": "2023-07-25T15:56:09.946016",
   "version": "2.4.0"
  }
 },
 "nbformat": 4,
 "nbformat_minor": 5
}
